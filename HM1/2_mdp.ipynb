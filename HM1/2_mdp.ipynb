{
 "cells": [
  {
   "cell_type": "markdown",
   "metadata": {},
   "source": [
    "This notebook is based on https://github.com/yandexdataschool/Practical_RL/blob/master/week02_value_based/seminar_vi.ipynb"
   ]
  },
  {
   "cell_type": "markdown",
   "metadata": {},
   "source": [
    "### Markov decision process\n",
    "\n",
    "This notebook's methods are all built to solve __M__arkov __D__ecision __P__rocesses. In the broadest sense, an MDP is defined by how it changes states and how rewards are computed.\n",
    "\n",
    "State transition is defined by $P(s' |s,a)$ - how likely are you to end at state $s'$ if you take action $a$ from state $s$. Now there's more than one way to define rewards, but we'll use $r(s,a,s')$ function for convenience.\n",
    "\n",
    "_This notebook is inspired by the awesome_ [CS294](https://github.com/berkeleydeeprlcourse/homework/blob/36a0b58261acde756abd55306fbe63df226bf62b/hw2/HW2.ipynb) _by Berkeley_"
   ]
  },
  {
   "cell_type": "markdown",
   "metadata": {},
   "source": [
    "For starters, let's define a simple MDP from this picture:\n",
    "\n",
    "<img src=\"https://upload.wikimedia.org/wikipedia/commons/a/ad/Markov_Decision_Process.svg\" width=\"400px\" alt=\"Diagram by Waldoalvarez via Wikimedia Commons, CC BY-SA 4.0\"/>"
   ]
  },
  {
   "cell_type": "code",
   "execution_count": 1,
   "metadata": {},
   "outputs": [
    {
     "name": "stderr",
     "output_type": "stream",
     "text": [
      "\"bash\" ­Ґ пў«пҐвбп ў­гваҐ­­Ґ© Ё«Ё ў­Ґи­Ґ©\n",
      "Є®¬ ­¤®©, ЁбЇ®«­пҐ¬®© Їа®Ја ¬¬®© Ё«Ё Ї ЄҐв­л¬ д ©«®¬.\n"
     ]
    }
   ],
   "source": [
    "import sys, os\n",
    "os.environ[\"PATH\"] += os.pathsep + 'C:/Program Files/Graphviz/bin/'\n",
    "if 'google.colab' in sys.modules and not os.path.exists('.setup_complete'):\n",
    "    !wget -q https://raw.githubusercontent.com/yandexdataschool/Practical_RL/master/setup_colab.sh -O- | bash\n",
    "    !wget -q https://raw.githubusercontent.com/yandexdataschool/Practical_RL/master/week02_value_based/mdp.py\n",
    "    !touch .setup_complete\n",
    "\n",
    "# This code creates a virtual display to draw game images on.\n",
    "# It will have no effect if your machine has a monitor.\n",
    "if type(os.environ.get(\"DISPLAY\")) is not str or len(os.environ.get(\"DISPLAY\")) == 0:\n",
    "    !bash ../xvfb start\n",
    "    os.environ['DISPLAY'] = ':1'"
   ]
  },
  {
   "cell_type": "code",
   "execution_count": 2,
   "metadata": {},
   "outputs": [],
   "source": [
    "transition_probs = {\n",
    "    's0': {\n",
    "        'a0': {'s0': 0.5, 's2': 0.5},\n",
    "        'a1': {'s2': 1}\n",
    "    },\n",
    "    's1': {\n",
    "        'a0': {'s0': 0.7, 's1': 0.1, 's2': 0.2},\n",
    "        'a1': {'s1': 0.95, 's2': 0.05}\n",
    "    },\n",
    "    's2': {\n",
    "        'a0': {'s0': 0.4, 's2': 0.6},\n",
    "        'a1': {'s0': 0.3, 's1': 0.3, 's2': 0.4}\n",
    "    }\n",
    "}\n",
    "rewards = {\n",
    "    's1': {'a0': {'s0': +5}},\n",
    "    's2': {'a1': {'s0': -1}}\n",
    "}\n",
    "\n",
    "from mdp import MDP\n",
    "mdp = MDP(transition_probs, rewards, initial_state='s0')"
   ]
  },
  {
   "cell_type": "markdown",
   "metadata": {},
   "source": [
    "We can now use MDP just as any other gym environment:"
   ]
  },
  {
   "cell_type": "code",
   "execution_count": 3,
   "metadata": {},
   "outputs": [
    {
     "name": "stdout",
     "output_type": "stream",
     "text": [
      "initial state = s0\n",
      "next_state = s2, reward = 0.0, done = False\n"
     ]
    }
   ],
   "source": [
    "print('initial state =', mdp.reset())\n",
    "next_state, reward, done, info = mdp.step('a1')\n",
    "print('next_state = %s, reward = %s, done = %s' % (next_state, reward, done))"
   ]
  },
  {
   "cell_type": "markdown",
   "metadata": {},
   "source": [
    "but it also has other methods that you'll need for Value Iteration"
   ]
  },
  {
   "cell_type": "code",
   "execution_count": null,
   "metadata": {},
   "outputs": [],
   "source": []
  },
  {
   "cell_type": "raw",
   "metadata": {},
   "source": [
    "print(\"mdp.get_all_states =\", mdp.get_all_states())\n",
    "print(\"mdp.get_possible_actions('s1') = \", mdp.get_possible_actions('s1'))\n",
    "print(\"mdp.get_next_states('s1', 'a0') = \", mdp.get_next_states('s1', 'a0'))\n",
    "print(\"mdp.get_reward('s1', 'a0', 's0') = \", mdp.get_reward('s1', 'a0', 's0'))\n",
    "print(\"mdp.get_transition_prob('s1', 'a0', 's0') = \", mdp.get_transition_prob('s1', 'a0', 's0'))"
   ]
  },
  {
   "cell_type": "markdown",
   "metadata": {},
   "source": [
    "### Optional: Visualizing MDPs\n",
    "\n",
    "You can also visualize any MDP with the drawing fuction donated by [neer201](https://github.com/neer201).\n",
    "\n",
    "You have to install graphviz for system and for python. \n",
    "\n",
    "1. * For ubuntu just run: `sudo apt-get install graphviz` \n",
    "   * For OSX: `brew install graphviz`\n",
    "2. `pip install graphviz`\n",
    "3. restart the notebook\n",
    "\n",
    "__Note:__ Installing graphviz on some OS (esp. Windows) may be tricky. However, you can ignore this part alltogether and use the standart vizualization."
   ]
  },
  {
   "cell_type": "code",
   "execution_count": 4,
   "metadata": {},
   "outputs": [
    {
     "name": "stdout",
     "output_type": "stream",
     "text": [
      "Graphviz available: True\n"
     ]
    }
   ],
   "source": [
    "from mdp import has_graphviz\n",
    "from IPython.display import display\n",
    "print(\"Graphviz available:\", has_graphviz)"
   ]
  },
  {
   "cell_type": "code",
   "execution_count": 5,
   "metadata": {},
   "outputs": [
    {
     "data": {
      "image/svg+xml": [
       "<?xml version=\"1.0\" encoding=\"UTF-8\" standalone=\"no\"?>\n",
       "<!DOCTYPE svg PUBLIC \"-//W3C//DTD SVG 1.1//EN\"\n",
       " \"http://www.w3.org/Graphics/SVG/1.1/DTD/svg11.dtd\">\n",
       "<!-- Generated by graphviz version 3.0.0 (20220226.1711)\n",
       " -->\n",
       "<!-- Title: MDP Pages: 1 -->\n",
       "<svg width=\"1021pt\" height=\"322pt\"\n",
       " viewBox=\"0.00 0.00 1021.46 322.00\" xmlns=\"http://www.w3.org/2000/svg\" xmlns:xlink=\"http://www.w3.org/1999/xlink\">\n",
       "<g id=\"graph0\" class=\"graph\" transform=\"scale(1 1) rotate(0) translate(4 318)\">\n",
       "<title>MDP</title>\n",
       "<polygon fill=\"white\" stroke=\"transparent\" points=\"-4,4 -4,-318 1017.46,-318 1017.46,4 -4,4\"/>\n",
       "<!-- s0 -->\n",
       "<g id=\"node1\" class=\"node\">\n",
       "<title>s0</title>\n",
       "<ellipse fill=\"#85ff75\" stroke=\"#85ff75\" cx=\"40\" cy=\"-116\" rx=\"36\" ry=\"36\"/>\n",
       "<ellipse fill=\"none\" stroke=\"#85ff75\" cx=\"40\" cy=\"-116\" rx=\"40\" ry=\"40\"/>\n",
       "<text text-anchor=\"middle\" x=\"40\" y=\"-109.8\" font-family=\"Arial\" font-size=\"24.00\">s0</text>\n",
       "</g>\n",
       "<!-- s0&#45;a0 -->\n",
       "<g id=\"node2\" class=\"node\">\n",
       "<title>s0&#45;a0</title>\n",
       "<ellipse fill=\"lightpink\" stroke=\"lightpink\" cx=\"192.58\" cy=\"-160\" rx=\"27.65\" ry=\"27.65\"/>\n",
       "<text text-anchor=\"middle\" x=\"192.58\" y=\"-155\" font-family=\"Arial\" font-size=\"20.00\">a0</text>\n",
       "</g>\n",
       "<!-- s0&#45;&gt;s0&#45;a0 -->\n",
       "<g id=\"edge1\" class=\"edge\">\n",
       "<title>s0&#45;&gt;s0&#45;a0</title>\n",
       "<path fill=\"none\" stroke=\"red\" stroke-width=\"2\" d=\"M79.07,-124.58C99.39,-129.44 124.73,-135.94 147,-143 150.34,-144.06 153.79,-145.23 157.23,-146.45\"/>\n",
       "<polygon fill=\"red\" stroke=\"red\" stroke-width=\"2\" points=\"156.17,-149.79 166.76,-149.96 158.59,-143.22 156.17,-149.79\"/>\n",
       "</g>\n",
       "<!-- s0&#45;a1 -->\n",
       "<g id=\"node4\" class=\"node\">\n",
       "<title>s0&#45;a1</title>\n",
       "<ellipse fill=\"lightpink\" stroke=\"lightpink\" cx=\"192.58\" cy=\"-233\" rx=\"27.65\" ry=\"27.65\"/>\n",
       "<text text-anchor=\"middle\" x=\"192.58\" y=\"-228\" font-family=\"Arial\" font-size=\"20.00\">a1</text>\n",
       "</g>\n",
       "<!-- s0&#45;&gt;s0&#45;a1 -->\n",
       "<g id=\"edge4\" class=\"edge\">\n",
       "<title>s0&#45;&gt;s0&#45;a1</title>\n",
       "<path fill=\"none\" stroke=\"red\" stroke-width=\"2\" d=\"M66.92,-145.67C76.24,-155.54 87.14,-166.24 98,-175 117.05,-190.37 140.45,-204.87 159.09,-215.53\"/>\n",
       "<polygon fill=\"red\" stroke=\"red\" stroke-width=\"2\" points=\"157.39,-218.59 167.82,-220.44 160.82,-212.49 157.39,-218.59\"/>\n",
       "</g>\n",
       "<!-- s0&#45;a0&#45;&gt;s0 -->\n",
       "<g id=\"edge2\" class=\"edge\">\n",
       "<title>s0&#45;a0&#45;&gt;s0</title>\n",
       "<path fill=\"none\" stroke=\"blue\" stroke-dasharray=\"5,2\" d=\"M165.02,-155.7C146.09,-152.3 120.19,-146.97 98,-140 94.19,-138.8 90.29,-137.45 86.39,-136\"/>\n",
       "<polygon fill=\"blue\" stroke=\"blue\" points=\"87.39,-132.64 76.8,-132.28 84.86,-139.16 87.39,-132.64\"/>\n",
       "<text text-anchor=\"middle\" x=\"122.5\" y=\"-158.2\" font-family=\"Arial\" font-size=\"16.00\">p = 0.5</text>\n",
       "</g>\n",
       "<!-- s2 -->\n",
       "<g id=\"node3\" class=\"node\">\n",
       "<title>s2</title>\n",
       "<ellipse fill=\"#85ff75\" stroke=\"#85ff75\" cx=\"430.15\" cy=\"-183\" rx=\"36\" ry=\"36\"/>\n",
       "<ellipse fill=\"none\" stroke=\"#85ff75\" cx=\"430.15\" cy=\"-183\" rx=\"40\" ry=\"40\"/>\n",
       "<text text-anchor=\"middle\" x=\"430.15\" y=\"-176.8\" font-family=\"Arial\" font-size=\"24.00\">s2</text>\n",
       "</g>\n",
       "<!-- s0&#45;a0&#45;&gt;s2 -->\n",
       "<g id=\"edge3\" class=\"edge\">\n",
       "<title>s0&#45;a0&#45;&gt;s2</title>\n",
       "<path fill=\"none\" stroke=\"blue\" stroke-dasharray=\"5,2\" d=\"M220.14,-162.59C258.9,-166.38 331.61,-173.48 380.22,-178.22\"/>\n",
       "<polygon fill=\"blue\" stroke=\"blue\" points=\"379.91,-181.71 390.2,-179.2 380.59,-174.74 379.91,-181.71\"/>\n",
       "<text text-anchor=\"middle\" x=\"305.15\" y=\"-182.2\" font-family=\"Arial\" font-size=\"16.00\">p = 0.5</text>\n",
       "</g>\n",
       "<!-- s2&#45;a0 -->\n",
       "<g id=\"node8\" class=\"node\">\n",
       "<title>s2&#45;a0</title>\n",
       "<ellipse fill=\"lightpink\" stroke=\"lightpink\" cx=\"662.73\" cy=\"-162\" rx=\"27.65\" ry=\"27.65\"/>\n",
       "<text text-anchor=\"middle\" x=\"662.73\" y=\"-157\" font-family=\"Arial\" font-size=\"20.00\">a0</text>\n",
       "</g>\n",
       "<!-- s2&#45;&gt;s2&#45;a0 -->\n",
       "<g id=\"edge13\" class=\"edge\">\n",
       "<title>s2&#45;&gt;s2&#45;a0</title>\n",
       "<path fill=\"none\" stroke=\"red\" stroke-width=\"2\" d=\"M470.1,-186.95C508.07,-189.78 567.22,-191.48 617.15,-181 620.83,-180.23 624.58,-179.15 628.26,-177.89\"/>\n",
       "<polygon fill=\"red\" stroke=\"red\" stroke-width=\"2\" points=\"629.69,-181.09 637.77,-174.24 627.18,-174.56 629.69,-181.09\"/>\n",
       "</g>\n",
       "<!-- s2&#45;a1 -->\n",
       "<g id=\"node9\" class=\"node\">\n",
       "<title>s2&#45;a1</title>\n",
       "<ellipse fill=\"lightpink\" stroke=\"lightpink\" cx=\"662.73\" cy=\"-80\" rx=\"27.65\" ry=\"27.65\"/>\n",
       "<text text-anchor=\"middle\" x=\"662.73\" y=\"-75\" font-family=\"Arial\" font-size=\"20.00\">a1</text>\n",
       "</g>\n",
       "<!-- s2&#45;&gt;s2&#45;a1 -->\n",
       "<g id=\"edge16\" class=\"edge\">\n",
       "<title>s2&#45;&gt;s2&#45;a1</title>\n",
       "<path fill=\"none\" stroke=\"red\" stroke-width=\"2\" d=\"M464.42,-161.95C472.09,-157.44 480.3,-152.87 488.15,-149 534.94,-125.93 591.47,-104.61 627.02,-91.94\"/>\n",
       "<polygon fill=\"red\" stroke=\"red\" stroke-width=\"2\" points=\"628.21,-95.24 636.47,-88.61 625.88,-88.64 628.21,-95.24\"/>\n",
       "</g>\n",
       "<!-- s0&#45;a1&#45;&gt;s2 -->\n",
       "<g id=\"edge5\" class=\"edge\">\n",
       "<title>s0&#45;a1&#45;&gt;s2</title>\n",
       "<path fill=\"none\" stroke=\"blue\" stroke-dasharray=\"5,2\" d=\"M220.05,-228.69C255.05,-222.82 318.54,-211.6 372.15,-199 375.31,-198.26 378.55,-197.46 381.8,-196.62\"/>\n",
       "<polygon fill=\"blue\" stroke=\"blue\" points=\"382.79,-199.98 391.56,-194.04 381,-193.22 382.79,-199.98\"/>\n",
       "<text text-anchor=\"middle\" x=\"305.15\" y=\"-230.2\" font-family=\"Arial\" font-size=\"16.00\">p = 1</text>\n",
       "</g>\n",
       "<!-- s1 -->\n",
       "<g id=\"node5\" class=\"node\">\n",
       "<title>s1</title>\n",
       "<ellipse fill=\"#85ff75\" stroke=\"#85ff75\" cx=\"824.31\" cy=\"-116\" rx=\"36\" ry=\"36\"/>\n",
       "<ellipse fill=\"none\" stroke=\"#85ff75\" cx=\"824.31\" cy=\"-116\" rx=\"40\" ry=\"40\"/>\n",
       "<text text-anchor=\"middle\" x=\"824.31\" y=\"-109.8\" font-family=\"Arial\" font-size=\"24.00\">s1</text>\n",
       "</g>\n",
       "<!-- s1&#45;a0 -->\n",
       "<g id=\"node6\" class=\"node\">\n",
       "<title>s1&#45;a0</title>\n",
       "<ellipse fill=\"lightpink\" stroke=\"lightpink\" cx=\"985.89\" cy=\"-92\" rx=\"27.65\" ry=\"27.65\"/>\n",
       "<text text-anchor=\"middle\" x=\"985.89\" y=\"-87\" font-family=\"Arial\" font-size=\"20.00\">a0</text>\n",
       "</g>\n",
       "<!-- s1&#45;&gt;s1&#45;a0 -->\n",
       "<g id=\"edge6\" class=\"edge\">\n",
       "<title>s1&#45;&gt;s1&#45;a0</title>\n",
       "<path fill=\"none\" stroke=\"red\" stroke-width=\"2\" d=\"M864.31,-112.23C886.64,-109.82 915.14,-106.34 940.31,-102 943,-101.54 945.77,-101.01 948.56,-100.46\"/>\n",
       "<polygon fill=\"red\" stroke=\"red\" stroke-width=\"2\" points=\"949.51,-103.84 958.57,-98.36 948.07,-96.99 949.51,-103.84\"/>\n",
       "</g>\n",
       "<!-- s1&#45;a1 -->\n",
       "<g id=\"node7\" class=\"node\">\n",
       "<title>s1&#45;a1</title>\n",
       "<ellipse fill=\"lightpink\" stroke=\"lightpink\" cx=\"985.89\" cy=\"-174\" rx=\"27.65\" ry=\"27.65\"/>\n",
       "<text text-anchor=\"middle\" x=\"985.89\" y=\"-169\" font-family=\"Arial\" font-size=\"20.00\">a1</text>\n",
       "</g>\n",
       "<!-- s1&#45;&gt;s1&#45;a1 -->\n",
       "<g id=\"edge10\" class=\"edge\">\n",
       "<title>s1&#45;&gt;s1&#45;a1</title>\n",
       "<path fill=\"none\" stroke=\"red\" stroke-width=\"2\" d=\"M862.59,-127.85C885.23,-135.24 914.61,-145.18 940.31,-155 943.82,-156.34 947.45,-157.79 951.07,-159.27\"/>\n",
       "<polygon fill=\"red\" stroke=\"red\" stroke-width=\"2\" points=\"949.92,-162.58 960.5,-163.21 952.62,-156.12 949.92,-162.58\"/>\n",
       "</g>\n",
       "<!-- s1&#45;a0&#45;&gt;s0 -->\n",
       "<g id=\"edge7\" class=\"edge\">\n",
       "<title>s1&#45;a0&#45;&gt;s0</title>\n",
       "<path fill=\"none\" stroke=\"blue\" stroke-dasharray=\"5,2\" d=\"M966.26,-72.49C938.38,-45.48 882.87,0 825.31,0 191.58,0 191.58,0 191.58,0 140.71,0 96.51,-42.06 69.39,-75.52\"/>\n",
       "<polygon fill=\"blue\" stroke=\"blue\" points=\"66.64,-73.36 63.2,-83.38 72.13,-77.69 66.64,-73.36\"/>\n",
       "<text text-anchor=\"middle\" x=\"552.65\" y=\"-5.2\" font-family=\"Arial\" font-size=\"16.00\">p = 0.7 &#160;reward =5</text>\n",
       "</g>\n",
       "<!-- s1&#45;a0&#45;&gt;s2 -->\n",
       "<g id=\"edge9\" class=\"edge\">\n",
       "<title>s1&#45;a0&#45;&gt;s2</title>\n",
       "<path fill=\"none\" stroke=\"blue\" stroke-dasharray=\"5,2\" d=\"M970.15,-114.86C966.01,-121.81 961.72,-129.58 958.31,-137 947.93,-159.61 960.27,-175.15 940.31,-190 779.04,-309.99 687.05,-229.03 488.15,-200 484.88,-199.52 481.54,-198.9 478.19,-198.17\"/>\n",
       "<polygon fill=\"blue\" stroke=\"blue\" points=\"478.76,-194.71 468.21,-195.73 477.1,-201.51 478.76,-194.71\"/>\n",
       "<text text-anchor=\"middle\" x=\"737.31\" y=\"-258.2\" font-family=\"Arial\" font-size=\"16.00\">p = 0.2</text>\n",
       "</g>\n",
       "<!-- s1&#45;a0&#45;&gt;s1 -->\n",
       "<g id=\"edge8\" class=\"edge\">\n",
       "<title>s1&#45;a0&#45;&gt;s1</title>\n",
       "<path fill=\"none\" stroke=\"blue\" stroke-dasharray=\"5,2\" d=\"M959.56,-83.57C938.51,-77.86 907.97,-72.57 882.31,-80 876.62,-81.65 870.95,-84.05 865.52,-86.84\"/>\n",
       "<polygon fill=\"blue\" stroke=\"blue\" points=\"863.63,-83.89 856.64,-91.85 867.07,-89.99 863.63,-83.89\"/>\n",
       "<text text-anchor=\"middle\" x=\"911.31\" y=\"-85.2\" font-family=\"Arial\" font-size=\"16.00\">p = 0.1</text>\n",
       "</g>\n",
       "<!-- s1&#45;a1&#45;&gt;s2 -->\n",
       "<g id=\"edge12\" class=\"edge\">\n",
       "<title>s1&#45;a1&#45;&gt;s2</title>\n",
       "<path fill=\"none\" stroke=\"blue\" stroke-dasharray=\"5,2\" d=\"M973.29,-198.86C965.84,-211.79 954.81,-226.45 940.31,-234 762.09,-326.85 675.05,-307.85 488.15,-234 479.81,-230.7 471.9,-225.59 464.78,-219.86\"/>\n",
       "<polygon fill=\"blue\" stroke=\"blue\" points=\"466.64,-216.84 456.8,-212.91 462.04,-222.12 466.64,-216.84\"/>\n",
       "<text text-anchor=\"middle\" x=\"737.31\" y=\"-301.2\" font-family=\"Arial\" font-size=\"16.00\">p = 0.05</text>\n",
       "</g>\n",
       "<!-- s1&#45;a1&#45;&gt;s1 -->\n",
       "<g id=\"edge11\" class=\"edge\">\n",
       "<title>s1&#45;a1&#45;&gt;s1</title>\n",
       "<path fill=\"none\" stroke=\"blue\" stroke-dasharray=\"5,2\" d=\"M958.42,-170.93C937.24,-167.87 907.1,-162.11 882.31,-152 876.89,-149.79 871.42,-147.07 866.12,-144.13\"/>\n",
       "<polygon fill=\"blue\" stroke=\"blue\" points=\"867.79,-141.05 857.4,-139.01 864.25,-147.09 867.79,-141.05\"/>\n",
       "<text text-anchor=\"middle\" x=\"911.31\" y=\"-173.2\" font-family=\"Arial\" font-size=\"16.00\">p = 0.95</text>\n",
       "</g>\n",
       "<!-- s2&#45;a0&#45;&gt;s0 -->\n",
       "<g id=\"edge14\" class=\"edge\">\n",
       "<title>s2&#45;a0&#45;&gt;s0</title>\n",
       "<path fill=\"none\" stroke=\"blue\" stroke-dasharray=\"5,2\" d=\"M636,-153.63C629.87,-151.88 623.33,-150.2 617.15,-149 443.61,-115.13 396.82,-130.34 220.15,-123 176.28,-121.18 126.36,-119.24 90.37,-117.86\"/>\n",
       "<polygon fill=\"blue\" stroke=\"blue\" points=\"90.27,-114.36 80.14,-117.47 90,-121.35 90.27,-114.36\"/>\n",
       "<text text-anchor=\"middle\" x=\"305.15\" y=\"-131.2\" font-family=\"Arial\" font-size=\"16.00\">p = 0.4</text>\n",
       "</g>\n",
       "<!-- s2&#45;a0&#45;&gt;s2 -->\n",
       "<g id=\"edge15\" class=\"edge\">\n",
       "<title>s2&#45;a0&#45;&gt;s2</title>\n",
       "<path fill=\"none\" stroke=\"blue\" stroke-dasharray=\"5,2\" d=\"M635.24,-158.04C600.92,-153.71 539.41,-148.65 488.15,-159 484.07,-159.82 479.91,-160.95 475.8,-162.27\"/>\n",
       "<polygon fill=\"blue\" stroke=\"blue\" points=\"474.59,-158.99 466.34,-165.64 476.93,-165.58 474.59,-158.99\"/>\n",
       "<text text-anchor=\"middle\" x=\"552.65\" y=\"-164.2\" font-family=\"Arial\" font-size=\"16.00\">p = 0.6</text>\n",
       "</g>\n",
       "<!-- s2&#45;a1&#45;&gt;s0 -->\n",
       "<g id=\"edge17\" class=\"edge\">\n",
       "<title>s2&#45;a1&#45;&gt;s0</title>\n",
       "<path fill=\"none\" stroke=\"blue\" stroke-dasharray=\"5,2\" d=\"M639.56,-64.64C632.68,-60.71 624.88,-57.02 617.15,-55 454.13,-12.41 405.63,-45.55 238.15,-64 175.18,-70.94 158.42,-70.93 98,-90 93.92,-91.29 89.74,-92.8 85.6,-94.42\"/>\n",
       "<polygon fill=\"blue\" stroke=\"blue\" points=\"83.94,-91.32 76.05,-98.4 86.62,-97.79 83.94,-91.32\"/>\n",
       "<text text-anchor=\"middle\" x=\"305.15\" y=\"-69.2\" font-family=\"Arial\" font-size=\"16.00\">p = 0.3 &#160;reward =&#45;1</text>\n",
       "</g>\n",
       "<!-- s2&#45;a1&#45;&gt;s2 -->\n",
       "<g id=\"edge19\" class=\"edge\">\n",
       "<title>s2&#45;a1&#45;&gt;s2</title>\n",
       "<path fill=\"none\" stroke=\"blue\" stroke-dasharray=\"5,2\" d=\"M636.31,-71.26C600.45,-60.61 534.24,-47.21 488.15,-75 466.57,-88.02 452.74,-112.24 444.11,-134.45\"/>\n",
       "<polygon fill=\"blue\" stroke=\"blue\" points=\"440.72,-133.54 440.62,-144.14 447.3,-135.92 440.72,-133.54\"/>\n",
       "<text text-anchor=\"middle\" x=\"552.65\" y=\"-80.2\" font-family=\"Arial\" font-size=\"16.00\">p = 0.4</text>\n",
       "</g>\n",
       "<!-- s2&#45;a1&#45;&gt;s1 -->\n",
       "<g id=\"edge18\" class=\"edge\">\n",
       "<title>s2&#45;a1&#45;&gt;s1</title>\n",
       "<path fill=\"none\" stroke=\"blue\" stroke-dasharray=\"5,2\" d=\"M689.73,-85.86C712.77,-91.06 747.03,-98.79 775.08,-105.12\"/>\n",
       "<polygon fill=\"blue\" stroke=\"blue\" points=\"774.57,-108.59 785.1,-107.38 776.11,-101.77 774.57,-108.59\"/>\n",
       "<text text-anchor=\"middle\" x=\"737.31\" y=\"-108.2\" font-family=\"Arial\" font-size=\"16.00\">p = 0.3</text>\n",
       "</g>\n",
       "</g>\n",
       "</svg>\n"
      ],
      "text/plain": [
       "<graphviz.graphs.Digraph at 0x2199bf21848>"
      ]
     },
     "metadata": {},
     "output_type": "display_data"
    }
   ],
   "source": [
    "if has_graphviz:\n",
    "    from mdp import plot_graph, plot_graph_with_state_values, plot_graph_optimal_strategy_and_state_values\n",
    "    display(plot_graph(mdp))"
   ]
  },
  {
   "cell_type": "markdown",
   "metadata": {},
   "source": [
    "### Value Iteration\n",
    "\n",
    "Now let's build something to solve this MDP. The simplest algorithm so far is __V__alue __I__teration\n",
    "\n",
    "Here's the pseudo-code for VI:\n",
    "\n",
    "---\n",
    "\n",
    "`1.` Initialize $V^{(0)}(s)=0$, for all $s$\n",
    "\n",
    "`2.` For $i=0, 1, 2, \\dots$\n",
    " \n",
    "`3.` $ \\quad V_{(i+1)}(s) = \\max_a \\sum_{s'} P(s' | s,a) \\cdot [ r(s,a,s') + \\gamma V_{i}(s')]$, for all $s$\n",
    "\n",
    "---"
   ]
  },
  {
   "cell_type": "markdown",
   "metadata": {},
   "source": [
    "First, let's write a function to compute the state-action value function $Q^{\\pi}$, defined as follows\n",
    "\n",
    "$$Q_i(s, a) = \\sum_{s'} P(s' | s,a) \\cdot [ r(s,a,s') + \\gamma V_{i}(s')]$$\n"
   ]
  },
  {
   "cell_type": "code",
   "execution_count": 6,
   "metadata": {},
   "outputs": [
    {
     "data": {
      "text/plain": [
       "{'s0': 0, 's1': 1, 's2': 2}"
      ]
     },
     "execution_count": 6,
     "metadata": {},
     "output_type": "execute_result"
    }
   ],
   "source": [
    "test_Vs = {s: i for i, s in enumerate(sorted(mdp.get_all_states()))}\n",
    "test_Vs"
   ]
  },
  {
   "cell_type": "code",
   "execution_count": 7,
   "metadata": {},
   "outputs": [
    {
     "name": "stdout",
     "output_type": "stream",
     "text": [
      "mdp.get_all_states = ('s0', 's1', 's2')\n",
      "mdp.get_possible_actions('s1') =  ('a0', 'a1')\n",
      "mdp.get_next_states('s1', 'a0') =  {'s0': 0.7, 's1': 0.1, 's2': 0.2}\n",
      "mdp.get_reward('s1', 'a0', 's0') =  5\n",
      "mdp.get_transition_prob('s1', 'a0', 's0') =  0.7\n"
     ]
    }
   ],
   "source": [
    "print(\"mdp.get_all_states =\", mdp.get_all_states())\n",
    "print(\"mdp.get_possible_actions('s1') = \", mdp.get_possible_actions('s1'))\n",
    "print(\"mdp.get_next_states('s1', 'a0') = \", mdp.get_next_states('s1', 'a0'))\n",
    "print(\"mdp.get_reward('s1', 'a0', 's0') = \", mdp.get_reward('s1', 'a0', 's0'))\n",
    "print(\"mdp.get_transition_prob('s1', 'a0', 's0') = \", mdp.get_transition_prob('s1', 'a0', 's0'))"
   ]
  },
  {
   "cell_type": "code",
   "execution_count": 8,
   "metadata": {},
   "outputs": [],
   "source": [
    "def get_action_value(mdp, state_values, state, action, gamma):\n",
    "    \"\"\" Computes Q(s,a) as in formula above \"\"\"\n",
    "\n",
    "    Q_pi = 0\n",
    "    \n",
    "    for s_i, probs in mdp.get_next_states(state, action).items():\n",
    "        Q_pi += probs * (mdp.get_reward(state, action, s_i) + gamma * state_values[s_i])\n",
    "    \n",
    "    return Q_pi\n",
    "    #return <YOUR CODE>"
   ]
  },
  {
   "cell_type": "code",
   "execution_count": 9,
   "metadata": {},
   "outputs": [],
   "source": [
    "import numpy as np\n",
    "test_Vs = {s: i for i, s in enumerate(sorted(mdp.get_all_states()))}\n",
    "assert np.isclose(get_action_value(mdp, test_Vs, 's2', 'a1', 0.9), 0.69)\n",
    "assert np.isclose(get_action_value(mdp, test_Vs, 's1', 'a0', 0.9), 3.95)"
   ]
  },
  {
   "cell_type": "markdown",
   "metadata": {},
   "source": [
    "Using $Q(s,a)$ we can now define the \"next\" V(s) for value iteration.\n",
    " $$V_{(i+1)}(s) = \\max_a \\sum_{s'} P(s' | s,a) \\cdot [ r(s,a,s') + \\gamma V_{i}(s')] = \\max_a Q_i(s,a)$$"
   ]
  },
  {
   "cell_type": "code",
   "execution_count": 10,
   "metadata": {},
   "outputs": [],
   "source": [
    "def get_new_state_value(mdp, state_values, state, gamma):\n",
    "    \"\"\" Computes next V(s) as in formula above. Please do not change state_values in process. \"\"\"\n",
    "    if mdp.is_terminal(state):\n",
    "        return 0\n",
    "    \n",
    "    V_i = max([get_action_value(mdp, state_values, state, action, gamma) for action in mdp.get_possible_actions(state)])\n",
    "    \n",
    "    return V_i"
   ]
  },
  {
   "cell_type": "code",
   "execution_count": 11,
   "metadata": {},
   "outputs": [],
   "source": [
    "test_Vs_copy = dict(test_Vs)\n",
    "assert np.isclose(get_new_state_value(mdp, test_Vs, 's0', 0.9), 1.8)\n",
    "assert np.isclose(get_new_state_value(mdp, test_Vs, 's2', 0.9), 1.08)\n",
    "assert np.isclose(get_new_state_value(mdp, {'s0': -1e10, 's1': 0, 's2': -2e10}, 's0', 0.9), -13500000000.0), \\\n",
    "    \"Please ensure that you handle negative Q-values of arbitrary magnitude correctly\"\n",
    "assert test_Vs == test_Vs_copy, \"Please do not change state_values in get_new_state_value\""
   ]
  },
  {
   "cell_type": "markdown",
   "metadata": {},
   "source": [
    "Finally, let's combine everything we wrote into a working value iteration algo."
   ]
  },
  {
   "cell_type": "code",
   "execution_count": 12,
   "metadata": {},
   "outputs": [
    {
     "data": {
      "text/plain": [
       "{'s0': 0, 's1': 0, 's2': 0}"
      ]
     },
     "execution_count": 12,
     "metadata": {},
     "output_type": "execute_result"
    }
   ],
   "source": [
    "{s: 0 for s in mdp.get_all_states()}"
   ]
  },
  {
   "cell_type": "code",
   "execution_count": 13,
   "metadata": {},
   "outputs": [
    {
     "data": {
      "image/svg+xml": [
       "<?xml version=\"1.0\" encoding=\"UTF-8\" standalone=\"no\"?>\n",
       "<!DOCTYPE svg PUBLIC \"-//W3C//DTD SVG 1.1//EN\"\n",
       " \"http://www.w3.org/Graphics/SVG/1.1/DTD/svg11.dtd\">\n",
       "<!-- Generated by graphviz version 3.0.0 (20220226.1711)\n",
       " -->\n",
       "<!-- Title: MDP Pages: 1 -->\n",
       "<svg width=\"1090pt\" height=\"327pt\"\n",
       " viewBox=\"0.00 0.00 1089.72 327.00\" xmlns=\"http://www.w3.org/2000/svg\" xmlns:xlink=\"http://www.w3.org/1999/xlink\">\n",
       "<g id=\"graph0\" class=\"graph\" transform=\"scale(1 1) rotate(0) translate(4 323)\">\n",
       "<title>MDP</title>\n",
       "<polygon fill=\"white\" stroke=\"transparent\" points=\"-4,4 -4,-323 1085.72,-323 1085.72,4 -4,4\"/>\n",
       "<!-- s0 -->\n",
       "<g id=\"node1\" class=\"node\">\n",
       "<title>s0</title>\n",
       "<ellipse fill=\"#85ff75\" stroke=\"#85ff75\" cx=\"51.38\" cy=\"-116\" rx=\"47.26\" ry=\"47.26\"/>\n",
       "<ellipse fill=\"none\" stroke=\"#85ff75\" cx=\"51.38\" cy=\"-116\" rx=\"51.25\" ry=\"51.25\"/>\n",
       "<text text-anchor=\"middle\" x=\"51.38\" y=\"-122.8\" font-family=\"Arial\" font-size=\"24.00\">s0</text>\n",
       "<text text-anchor=\"middle\" x=\"51.38\" y=\"-96.8\" font-family=\"Arial\" font-size=\"24.00\">V =0</text>\n",
       "</g>\n",
       "<!-- s0&#45;a0 -->\n",
       "<g id=\"node2\" class=\"node\">\n",
       "<title>s0&#45;a0</title>\n",
       "<ellipse fill=\"lightpink\" stroke=\"lightpink\" cx=\"215.33\" cy=\"-160\" rx=\"27.65\" ry=\"27.65\"/>\n",
       "<text text-anchor=\"middle\" x=\"215.33\" y=\"-155\" font-family=\"Arial\" font-size=\"20.00\">a0</text>\n",
       "</g>\n",
       "<!-- s0&#45;&gt;s0&#45;a0 -->\n",
       "<g id=\"edge1\" class=\"edge\">\n",
       "<title>s0&#45;&gt;s0&#45;a0</title>\n",
       "<path fill=\"none\" stroke=\"red\" stroke-width=\"2\" d=\"M101.89,-125.8C122.98,-130.38 147.75,-136.31 169.75,-143 173.1,-144.02 176.56,-145.16 180,-146.37\"/>\n",
       "<polygon fill=\"red\" stroke=\"red\" stroke-width=\"2\" points=\"178.96,-149.71 189.55,-149.85 181.36,-143.14 178.96,-149.71\"/>\n",
       "</g>\n",
       "<!-- s0&#45;a1 -->\n",
       "<g id=\"node4\" class=\"node\">\n",
       "<title>s0&#45;a1</title>\n",
       "<ellipse fill=\"lightpink\" stroke=\"lightpink\" cx=\"215.33\" cy=\"-233\" rx=\"27.65\" ry=\"27.65\"/>\n",
       "<text text-anchor=\"middle\" x=\"215.33\" y=\"-228\" font-family=\"Arial\" font-size=\"20.00\">a1</text>\n",
       "</g>\n",
       "<!-- s0&#45;&gt;s0&#45;a1 -->\n",
       "<g id=\"edge4\" class=\"edge\">\n",
       "<title>s0&#45;&gt;s0&#45;a1</title>\n",
       "<path fill=\"none\" stroke=\"red\" stroke-width=\"2\" d=\"M90.3,-149.8C100.01,-158 110.59,-166.54 120.75,-174 140.58,-188.55 163.98,-203.3 182.43,-214.42\"/>\n",
       "<polygon fill=\"red\" stroke=\"red\" stroke-width=\"2\" points=\"180.66,-217.44 191.04,-219.57 184.25,-211.43 180.66,-217.44\"/>\n",
       "</g>\n",
       "<!-- s0&#45;a0&#45;&gt;s0 -->\n",
       "<g id=\"edge2\" class=\"edge\">\n",
       "<title>s0&#45;a0&#45;&gt;s0</title>\n",
       "<path fill=\"none\" stroke=\"blue\" stroke-dasharray=\"5,2\" d=\"M187.89,-155.28C169.03,-151.69 143.14,-146.29 120.75,-140 117.15,-138.99 113.46,-137.89 109.75,-136.73\"/>\n",
       "<polygon fill=\"blue\" stroke=\"blue\" points=\"110.54,-133.31 99.95,-133.57 108.39,-139.97 110.54,-133.31\"/>\n",
       "<text text-anchor=\"middle\" x=\"145.25\" y=\"-157.2\" font-family=\"Arial\" font-size=\"16.00\">p = 0.5</text>\n",
       "</g>\n",
       "<!-- s2 -->\n",
       "<g id=\"node3\" class=\"node\">\n",
       "<title>s2</title>\n",
       "<ellipse fill=\"#85ff75\" stroke=\"#85ff75\" cx=\"464.28\" cy=\"-189\" rx=\"47.26\" ry=\"47.26\"/>\n",
       "<ellipse fill=\"none\" stroke=\"#85ff75\" cx=\"464.28\" cy=\"-189\" rx=\"51.25\" ry=\"51.25\"/>\n",
       "<text text-anchor=\"middle\" x=\"464.28\" y=\"-195.8\" font-family=\"Arial\" font-size=\"24.00\">s2</text>\n",
       "<text text-anchor=\"middle\" x=\"464.28\" y=\"-169.8\" font-family=\"Arial\" font-size=\"24.00\">V =0</text>\n",
       "</g>\n",
       "<!-- s0&#45;a0&#45;&gt;s2 -->\n",
       "<g id=\"edge3\" class=\"edge\">\n",
       "<title>s0&#45;a0&#45;&gt;s2</title>\n",
       "<path fill=\"none\" stroke=\"blue\" stroke-dasharray=\"5,2\" d=\"M242.76,-163.1C280.79,-167.57 351.99,-175.93 403.22,-181.95\"/>\n",
       "<polygon fill=\"blue\" stroke=\"blue\" points=\"402.84,-185.43 413.18,-183.12 403.65,-178.47 402.84,-185.43\"/>\n",
       "<text text-anchor=\"middle\" x=\"327.91\" y=\"-186.2\" font-family=\"Arial\" font-size=\"16.00\">p = 0.5</text>\n",
       "</g>\n",
       "<!-- s2&#45;a0 -->\n",
       "<g id=\"node8\" class=\"node\">\n",
       "<title>s2&#45;a0</title>\n",
       "<ellipse fill=\"lightpink\" stroke=\"lightpink\" cx=\"708.24\" cy=\"-162\" rx=\"27.65\" ry=\"27.65\"/>\n",
       "<text text-anchor=\"middle\" x=\"708.24\" y=\"-157\" font-family=\"Arial\" font-size=\"20.00\">a0</text>\n",
       "</g>\n",
       "<!-- s2&#45;&gt;s2&#45;a0 -->\n",
       "<g id=\"edge13\" class=\"edge\">\n",
       "<title>s2&#45;&gt;s2&#45;a0</title>\n",
       "<path fill=\"none\" stroke=\"red\" stroke-width=\"2\" d=\"M515.82,-191.93C556.09,-193.07 613.65,-192.05 662.66,-181 666.32,-180.17 670.06,-179.06 673.74,-177.78\"/>\n",
       "<polygon fill=\"red\" stroke=\"red\" stroke-width=\"2\" points=\"675.18,-180.98 683.24,-174.1 672.65,-174.45 675.18,-180.98\"/>\n",
       "</g>\n",
       "<!-- s2&#45;a1 -->\n",
       "<g id=\"node9\" class=\"node\">\n",
       "<title>s2&#45;a1</title>\n",
       "<ellipse fill=\"lightpink\" stroke=\"lightpink\" cx=\"708.24\" cy=\"-77\" rx=\"27.65\" ry=\"27.65\"/>\n",
       "<text text-anchor=\"middle\" x=\"708.24\" y=\"-72\" font-family=\"Arial\" font-size=\"20.00\">a1</text>\n",
       "</g>\n",
       "<!-- s2&#45;&gt;s2&#45;a1 -->\n",
       "<g id=\"edge16\" class=\"edge\">\n",
       "<title>s2&#45;&gt;s2&#45;a1</title>\n",
       "<path fill=\"none\" stroke=\"red\" stroke-width=\"2\" d=\"M508.57,-162.49C516.79,-157.8 525.41,-153.1 533.66,-149 580.66,-125.64 637.13,-103.21 672.62,-89.76\"/>\n",
       "<polygon fill=\"red\" stroke=\"red\" stroke-width=\"2\" points=\"673.92,-93.01 682.04,-86.21 671.45,-86.46 673.92,-93.01\"/>\n",
       "</g>\n",
       "<!-- s0&#45;a1&#45;&gt;s2 -->\n",
       "<g id=\"edge5\" class=\"edge\">\n",
       "<title>s0&#45;a1&#45;&gt;s2</title>\n",
       "<path fill=\"none\" stroke=\"blue\" stroke-dasharray=\"5,2\" d=\"M242.71,-228.87C277.6,-223.34 340.98,-213.05 394.91,-203 397.75,-202.47 400.67,-201.92 403.61,-201.35\"/>\n",
       "<polygon fill=\"blue\" stroke=\"blue\" points=\"404.51,-204.74 413.65,-199.38 403.17,-197.87 404.51,-204.74\"/>\n",
       "<text text-anchor=\"middle\" x=\"327.91\" y=\"-230.2\" font-family=\"Arial\" font-size=\"16.00\">p = 1</text>\n",
       "</g>\n",
       "<!-- s1 -->\n",
       "<g id=\"node5\" class=\"node\">\n",
       "<title>s1</title>\n",
       "<ellipse fill=\"#85ff75\" stroke=\"#85ff75\" cx=\"881.19\" cy=\"-86\" rx=\"47.26\" ry=\"47.26\"/>\n",
       "<ellipse fill=\"none\" stroke=\"#85ff75\" cx=\"881.19\" cy=\"-86\" rx=\"51.25\" ry=\"51.25\"/>\n",
       "<text text-anchor=\"middle\" x=\"881.19\" y=\"-92.8\" font-family=\"Arial\" font-size=\"24.00\">s1</text>\n",
       "<text text-anchor=\"middle\" x=\"881.19\" y=\"-66.8\" font-family=\"Arial\" font-size=\"24.00\">V =0</text>\n",
       "</g>\n",
       "<!-- s1&#45;a0 -->\n",
       "<g id=\"node6\" class=\"node\">\n",
       "<title>s1&#45;a0</title>\n",
       "<ellipse fill=\"lightpink\" stroke=\"lightpink\" cx=\"1054.14\" cy=\"-62\" rx=\"27.65\" ry=\"27.65\"/>\n",
       "<text text-anchor=\"middle\" x=\"1054.14\" y=\"-57\" font-family=\"Arial\" font-size=\"20.00\">a0</text>\n",
       "</g>\n",
       "<!-- s1&#45;&gt;s1&#45;a0 -->\n",
       "<g id=\"edge6\" class=\"edge\">\n",
       "<title>s1&#45;&gt;s1&#45;a0</title>\n",
       "<path fill=\"none\" stroke=\"red\" stroke-width=\"2\" d=\"M932.49,-81.71C955.73,-79.4 983.64,-76.16 1008.57,-72 1011.26,-71.55 1014.04,-71.04 1016.82,-70.49\"/>\n",
       "<polygon fill=\"red\" stroke=\"red\" stroke-width=\"2\" points=\"1017.76,-73.87 1026.84,-68.41 1016.33,-67.02 1017.76,-73.87\"/>\n",
       "</g>\n",
       "<!-- s1&#45;a1 -->\n",
       "<g id=\"node7\" class=\"node\">\n",
       "<title>s1&#45;a1</title>\n",
       "<ellipse fill=\"lightpink\" stroke=\"lightpink\" cx=\"1054.14\" cy=\"-144\" rx=\"27.65\" ry=\"27.65\"/>\n",
       "<text text-anchor=\"middle\" x=\"1054.14\" y=\"-139\" font-family=\"Arial\" font-size=\"20.00\">a1</text>\n",
       "</g>\n",
       "<!-- s1&#45;&gt;s1&#45;a1 -->\n",
       "<g id=\"edge10\" class=\"edge\">\n",
       "<title>s1&#45;&gt;s1&#45;a1</title>\n",
       "<path fill=\"none\" stroke=\"red\" stroke-width=\"2\" d=\"M930.89,-99.75C954.53,-106.74 983.23,-115.72 1008.57,-125 1012.09,-126.29 1015.74,-127.71 1019.37,-129.17\"/>\n",
       "<polygon fill=\"red\" stroke=\"red\" stroke-width=\"2\" points=\"1018.22,-132.49 1028.8,-133.09 1020.91,-126.02 1018.22,-132.49\"/>\n",
       "</g>\n",
       "<!-- s1&#45;a0&#45;&gt;s0 -->\n",
       "<g id=\"edge7\" class=\"edge\">\n",
       "<title>s1&#45;a0&#45;&gt;s0</title>\n",
       "<path fill=\"none\" stroke=\"blue\" stroke-dasharray=\"5,2\" d=\"M1030.32,-47.93C998.4,-29.64 938.07,0 882.19,0 214.33,0 214.33,0 214.33,0 164.86,0 120.11,-36.21 90.25,-68.17\"/>\n",
       "<polygon fill=\"blue\" stroke=\"blue\" points=\"87.5,-66 83.37,-75.75 92.68,-70.71 87.5,-66\"/>\n",
       "<text text-anchor=\"middle\" x=\"598.16\" y=\"-5.2\" font-family=\"Arial\" font-size=\"16.00\">p = 0.7 &#160;reward =5</text>\n",
       "</g>\n",
       "<!-- s1&#45;a0&#45;&gt;s2 -->\n",
       "<g id=\"edge9\" class=\"edge\">\n",
       "<title>s1&#45;a0&#45;&gt;s2</title>\n",
       "<path fill=\"none\" stroke=\"blue\" stroke-dasharray=\"5,2\" d=\"M1038.41,-84.86C1034.27,-91.81 1029.97,-99.58 1026.57,-107 1016.19,-129.61 1027.71,-144.11 1008.57,-160 868.83,-275.97 632.58,-234.11 523.58,-206.08\"/>\n",
       "<polygon fill=\"blue\" stroke=\"blue\" points=\"524.31,-202.65 513.75,-203.5 522.54,-209.42 524.31,-202.65\"/>\n",
       "<text text-anchor=\"middle\" x=\"782.81\" y=\"-241.2\" font-family=\"Arial\" font-size=\"16.00\">p = 0.2</text>\n",
       "</g>\n",
       "<!-- s1&#45;a0&#45;&gt;s1 -->\n",
       "<g id=\"edge8\" class=\"edge\">\n",
       "<title>s1&#45;a0&#45;&gt;s1</title>\n",
       "<path fill=\"none\" stroke=\"blue\" stroke-dasharray=\"5,2\" d=\"M1027.53,-54C1006.59,-48.64 976.33,-43.63 950.57,-50 945.27,-51.31 939.94,-53.11 934.71,-55.21\"/>\n",
       "<polygon fill=\"blue\" stroke=\"blue\" points=\"933.19,-52.05 925.44,-59.28 936.01,-58.46 933.19,-52.05\"/>\n",
       "<text text-anchor=\"middle\" x=\"979.57\" y=\"-55.2\" font-family=\"Arial\" font-size=\"16.00\">p = 0.1</text>\n",
       "</g>\n",
       "<!-- s1&#45;a1&#45;&gt;s2 -->\n",
       "<g id=\"edge12\" class=\"edge\">\n",
       "<title>s1&#45;a1&#45;&gt;s2</title>\n",
       "<path fill=\"none\" stroke=\"blue\" stroke-dasharray=\"5,2\" d=\"M1047.65,-171.12C1041.82,-192.2 1030.32,-220.11 1008.57,-234 830.66,-347.57 735.15,-296.86 533.66,-234 527.01,-231.92 520.39,-228.99 514.05,-225.61\"/>\n",
       "<polygon fill=\"blue\" stroke=\"blue\" points=\"515.38,-222.34 504.97,-220.37 511.88,-228.4 515.38,-222.34\"/>\n",
       "<text text-anchor=\"middle\" x=\"782.81\" y=\"-306.2\" font-family=\"Arial\" font-size=\"16.00\">p = 0.05</text>\n",
       "</g>\n",
       "<!-- s1&#45;a1&#45;&gt;s1 -->\n",
       "<g id=\"edge11\" class=\"edge\">\n",
       "<title>s1&#45;a1&#45;&gt;s1</title>\n",
       "<path fill=\"none\" stroke=\"blue\" stroke-dasharray=\"5,2\" d=\"M1026.45,-140.33C1005.41,-136.95 975.56,-131.07 950.57,-122 945.52,-120.17 940.38,-118.03 935.31,-115.73\"/>\n",
       "<polygon fill=\"blue\" stroke=\"blue\" points=\"936.8,-112.56 926.26,-111.43 933.79,-118.89 936.8,-112.56\"/>\n",
       "<text text-anchor=\"middle\" x=\"979.57\" y=\"-143.2\" font-family=\"Arial\" font-size=\"16.00\">p = 0.95</text>\n",
       "</g>\n",
       "<!-- s2&#45;a0&#45;&gt;s0 -->\n",
       "<g id=\"edge14\" class=\"edge\">\n",
       "<title>s2&#45;a0&#45;&gt;s0</title>\n",
       "<path fill=\"none\" stroke=\"blue\" stroke-dasharray=\"5,2\" d=\"M681.47,-153.78C675.35,-152.03 668.81,-150.31 662.66,-149 598.17,-135.29 581.37,-134.38 515.66,-129 371.6,-117.21 201.6,-115.57 113,-115.63\"/>\n",
       "<polygon fill=\"blue\" stroke=\"blue\" points=\"112.85,-112.13 102.86,-115.65 112.87,-119.13 112.85,-112.13\"/>\n",
       "<text text-anchor=\"middle\" x=\"327.91\" y=\"-127.2\" font-family=\"Arial\" font-size=\"16.00\">p = 0.4</text>\n",
       "</g>\n",
       "<!-- s2&#45;a0&#45;&gt;s2 -->\n",
       "<g id=\"edge15\" class=\"edge\">\n",
       "<title>s2&#45;a0&#45;&gt;s2</title>\n",
       "<path fill=\"none\" stroke=\"blue\" stroke-dasharray=\"5,2\" d=\"M680.72,-157.92C646.37,-153.46 584.84,-148.27 533.66,-159 529.18,-159.94 524.65,-161.19 520.14,-162.64\"/>\n",
       "<polygon fill=\"blue\" stroke=\"blue\" points=\"518.63,-159.47 510.39,-166.12 520.99,-166.06 518.63,-159.47\"/>\n",
       "<text text-anchor=\"middle\" x=\"598.16\" y=\"-164.2\" font-family=\"Arial\" font-size=\"16.00\">p = 0.6</text>\n",
       "</g>\n",
       "<!-- s2&#45;a1&#45;&gt;s0 -->\n",
       "<g id=\"edge17\" class=\"edge\">\n",
       "<title>s2&#45;a1&#45;&gt;s0</title>\n",
       "<path fill=\"none\" stroke=\"blue\" stroke-dasharray=\"5,2\" d=\"M684.53,-62C677.77,-58.32 670.16,-54.89 662.66,-53 607.06,-38.99 590.98,-51.84 533.66,-53 349.45,-56.71 298.16,-40.25 120.75,-90 116.94,-91.07 113.04,-92.26 109.14,-93.54\"/>\n",
       "<polygon fill=\"blue\" stroke=\"blue\" points=\"107.79,-90.3 99.46,-96.84 110.05,-96.92 107.79,-90.3\"/>\n",
       "<text text-anchor=\"middle\" x=\"327.91\" y=\"-65.2\" font-family=\"Arial\" font-size=\"16.00\">p = 0.3 &#160;reward =&#45;1</text>\n",
       "</g>\n",
       "<!-- s2&#45;a1&#45;&gt;s2 -->\n",
       "<g id=\"edge19\" class=\"edge\">\n",
       "<title>s2&#45;a1&#45;&gt;s2</title>\n",
       "<path fill=\"none\" stroke=\"blue\" stroke-dasharray=\"5,2\" d=\"M681.69,-68.7C645.97,-58.71 580.25,-46.38 533.66,-73 511.45,-85.69 495.73,-108.73 485.02,-130.94\"/>\n",
       "<polygon fill=\"blue\" stroke=\"blue\" points=\"481.83,-129.5 480.87,-140.05 488.2,-132.4 481.83,-129.5\"/>\n",
       "<text text-anchor=\"middle\" x=\"598.16\" y=\"-78.2\" font-family=\"Arial\" font-size=\"16.00\">p = 0.4</text>\n",
       "</g>\n",
       "<!-- s2&#45;a1&#45;&gt;s1 -->\n",
       "<g id=\"edge18\" class=\"edge\">\n",
       "<title>s2&#45;a1&#45;&gt;s1</title>\n",
       "<path fill=\"none\" stroke=\"blue\" stroke-dasharray=\"5,2\" d=\"M735.95,-78.41C758.19,-79.58 790.74,-81.29 819.28,-82.79\"/>\n",
       "<polygon fill=\"blue\" stroke=\"blue\" points=\"819.42,-86.31 829.59,-83.34 819.79,-79.32 819.42,-86.31\"/>\n",
       "<text text-anchor=\"middle\" x=\"782.81\" y=\"-88.2\" font-family=\"Arial\" font-size=\"16.00\">p = 0.3</text>\n",
       "</g>\n",
       "</g>\n",
       "</svg>\n"
      ],
      "text/plain": [
       "<graphviz.graphs.Digraph at 0x2199bf5bf48>"
      ]
     },
     "metadata": {},
     "output_type": "display_data"
    },
    {
     "name": "stdout",
     "output_type": "stream",
     "text": [
      "iter    0   |   diff: 3.50000   |   V(s0) = 0.000   V(s1) = 0.000   V(s2) = 0.000\n",
      "iter    1   |   diff: 0.64500   |   V(s0) = 0.000   V(s1) = 3.500   V(s2) = 0.000\n",
      "iter    2   |   diff: 0.58050   |   V(s0) = 0.000   V(s1) = 3.815   V(s2) = 0.645\n",
      "iter    3   |   diff: 0.43582   |   V(s0) = 0.581   V(s1) = 3.959   V(s2) = 0.962\n",
      "iter    4   |   diff: 0.30634   |   V(s0) = 0.866   V(s1) = 4.395   V(s2) = 1.272\n",
      "iter    5   |   diff: 0.27571   |   V(s0) = 1.145   V(s1) = 4.670   V(s2) = 1.579\n",
      "iter    6   |   diff: 0.24347   |   V(s0) = 1.421   V(s1) = 4.926   V(s2) = 1.838\n",
      "iter    7   |   diff: 0.21419   |   V(s0) = 1.655   V(s1) = 5.169   V(s2) = 2.075\n",
      "iter    8   |   diff: 0.19277   |   V(s0) = 1.868   V(s1) = 5.381   V(s2) = 2.290\n",
      "iter    9   |   diff: 0.17327   |   V(s0) = 2.061   V(s1) = 5.573   V(s2) = 2.481\n",
      "iter   10   |   diff: 0.15569   |   V(s0) = 2.233   V(s1) = 5.746   V(s2) = 2.654\n",
      "iter   11   |   diff: 0.14012   |   V(s0) = 2.389   V(s1) = 5.902   V(s2) = 2.810\n",
      "iter   12   |   diff: 0.12610   |   V(s0) = 2.529   V(s1) = 6.042   V(s2) = 2.950\n",
      "iter   13   |   diff: 0.11348   |   V(s0) = 2.655   V(s1) = 6.168   V(s2) = 3.076\n",
      "iter   14   |   diff: 0.10213   |   V(s0) = 2.769   V(s1) = 6.282   V(s2) = 3.190\n",
      "iter   15   |   diff: 0.09192   |   V(s0) = 2.871   V(s1) = 6.384   V(s2) = 3.292\n",
      "iter   16   |   diff: 0.08272   |   V(s0) = 2.963   V(s1) = 6.476   V(s2) = 3.384\n",
      "iter   17   |   diff: 0.07445   |   V(s0) = 3.045   V(s1) = 6.558   V(s2) = 3.467\n",
      "iter   18   |   diff: 0.06701   |   V(s0) = 3.120   V(s1) = 6.633   V(s2) = 3.541\n",
      "iter   19   |   diff: 0.06031   |   V(s0) = 3.187   V(s1) = 6.700   V(s2) = 3.608\n",
      "iter   20   |   diff: 0.05428   |   V(s0) = 3.247   V(s1) = 6.760   V(s2) = 3.668\n",
      "iter   21   |   diff: 0.04885   |   V(s0) = 3.301   V(s1) = 6.814   V(s2) = 3.723\n",
      "iter   22   |   diff: 0.04396   |   V(s0) = 3.350   V(s1) = 6.863   V(s2) = 3.771\n",
      "iter   23   |   diff: 0.03957   |   V(s0) = 3.394   V(s1) = 6.907   V(s2) = 3.815\n",
      "iter   24   |   diff: 0.03561   |   V(s0) = 3.434   V(s1) = 6.947   V(s2) = 3.855\n",
      "iter   25   |   diff: 0.03205   |   V(s0) = 3.469   V(s1) = 6.982   V(s2) = 3.891\n",
      "iter   26   |   diff: 0.02884   |   V(s0) = 3.502   V(s1) = 7.014   V(s2) = 3.923\n",
      "iter   27   |   diff: 0.02596   |   V(s0) = 3.530   V(s1) = 7.043   V(s2) = 3.951\n",
      "iter   28   |   diff: 0.02336   |   V(s0) = 3.556   V(s1) = 7.069   V(s2) = 3.977\n",
      "iter   29   |   diff: 0.02103   |   V(s0) = 3.580   V(s1) = 7.093   V(s2) = 4.001\n",
      "iter   30   |   diff: 0.01892   |   V(s0) = 3.601   V(s1) = 7.114   V(s2) = 4.022\n",
      "iter   31   |   diff: 0.01703   |   V(s0) = 3.620   V(s1) = 7.133   V(s2) = 4.041\n",
      "iter   32   |   diff: 0.01533   |   V(s0) = 3.637   V(s1) = 7.150   V(s2) = 4.058\n",
      "iter   33   |   diff: 0.01380   |   V(s0) = 3.652   V(s1) = 7.165   V(s2) = 4.073\n",
      "iter   34   |   diff: 0.01242   |   V(s0) = 3.666   V(s1) = 7.179   V(s2) = 4.087\n",
      "iter   35   |   diff: 0.01117   |   V(s0) = 3.678   V(s1) = 7.191   V(s2) = 4.099\n",
      "iter   36   |   diff: 0.01006   |   V(s0) = 3.689   V(s1) = 7.202   V(s2) = 4.110\n",
      "iter   37   |   diff: 0.00905   |   V(s0) = 3.699   V(s1) = 7.212   V(s2) = 4.121\n",
      "iter   38   |   diff: 0.00815   |   V(s0) = 3.708   V(s1) = 7.221   V(s2) = 4.130\n",
      "iter   39   |   diff: 0.00733   |   V(s0) = 3.717   V(s1) = 7.230   V(s2) = 4.138\n",
      "iter   40   |   diff: 0.00660   |   V(s0) = 3.724   V(s1) = 7.237   V(s2) = 4.145\n",
      "iter   41   |   diff: 0.00594   |   V(s0) = 3.731   V(s1) = 7.244   V(s2) = 4.152\n",
      "iter   42   |   diff: 0.00534   |   V(s0) = 3.736   V(s1) = 7.249   V(s2) = 4.158\n",
      "iter   43   |   diff: 0.00481   |   V(s0) = 3.742   V(s1) = 7.255   V(s2) = 4.163\n",
      "iter   44   |   diff: 0.00433   |   V(s0) = 3.747   V(s1) = 7.260   V(s2) = 4.168\n",
      "iter   45   |   diff: 0.00390   |   V(s0) = 3.751   V(s1) = 7.264   V(s2) = 4.172\n",
      "iter   46   |   diff: 0.00351   |   V(s0) = 3.755   V(s1) = 7.268   V(s2) = 4.176\n",
      "iter   47   |   diff: 0.00316   |   V(s0) = 3.758   V(s1) = 7.271   V(s2) = 4.179\n",
      "iter   48   |   diff: 0.00284   |   V(s0) = 3.762   V(s1) = 7.275   V(s2) = 4.183\n",
      "iter   49   |   diff: 0.00256   |   V(s0) = 3.764   V(s1) = 7.277   V(s2) = 4.185\n",
      "iter   50   |   diff: 0.00230   |   V(s0) = 3.767   V(s1) = 7.280   V(s2) = 4.188\n",
      "iter   51   |   diff: 0.00207   |   V(s0) = 3.769   V(s1) = 7.282   V(s2) = 4.190\n",
      "iter   52   |   diff: 0.00186   |   V(s0) = 3.771   V(s1) = 7.284   V(s2) = 4.192\n",
      "iter   53   |   diff: 0.00168   |   V(s0) = 3.773   V(s1) = 7.286   V(s2) = 4.194\n",
      "iter   54   |   diff: 0.00151   |   V(s0) = 3.775   V(s1) = 7.288   V(s2) = 4.196\n",
      "iter   55   |   diff: 0.00136   |   V(s0) = 3.776   V(s1) = 7.289   V(s2) = 4.197\n",
      "iter   56   |   diff: 0.00122   |   V(s0) = 3.778   V(s1) = 7.291   V(s2) = 4.199\n",
      "iter   57   |   diff: 0.00110   |   V(s0) = 3.779   V(s1) = 7.292   V(s2) = 4.200\n",
      "iter   58   |   diff: 0.00099   |   V(s0) = 3.780   V(s1) = 7.293   V(s2) = 4.201\n",
      "Terminated\n"
     ]
    }
   ],
   "source": [
    "# parameters\n",
    "gamma = 0.9            # discount for MDP\n",
    "num_iter = 100         # maximum iterations, excluding initialization\n",
    "# stop VI if new values are this close to old values (or closer)\n",
    "min_difference = 0.001\n",
    "\n",
    "# initialize V(s)\n",
    "state_values = {s: 0 for s in mdp.get_all_states()}\n",
    "\n",
    "if has_graphviz:\n",
    "    display(plot_graph_with_state_values(mdp, state_values))\n",
    "\n",
    "for i in range(num_iter):\n",
    "\n",
    "    # Compute new state values using the functions you defined above.\n",
    "    # It must be a dict {state : float V_new(state)}\n",
    "    # new_state_values = <YOUR CODE> \n",
    "    new_state_values = {s: get_new_state_value(mdp, state_values, s, gamma) for s in mdp.get_all_states()}\n",
    "\n",
    "    assert isinstance(new_state_values, dict)\n",
    "\n",
    "    # Compute difference\n",
    "    diff = max(abs(new_state_values[s] - state_values[s])\n",
    "               for s in mdp.get_all_states())\n",
    "    print(\"iter %4i   |   diff: %6.5f   |   \" % (i, diff), end=\"\")\n",
    "    print('   '.join(\"V(%s) = %.3f\" % (s, v) for s, v in state_values.items()))\n",
    "    state_values = new_state_values\n",
    "\n",
    "    if diff < min_difference:\n",
    "        print(\"Terminated\")\n",
    "        break"
   ]
  },
  {
   "cell_type": "code",
   "execution_count": 14,
   "metadata": {},
   "outputs": [
    {
     "data": {
      "image/svg+xml": [
       "<?xml version=\"1.0\" encoding=\"UTF-8\" standalone=\"no\"?>\n",
       "<!DOCTYPE svg PUBLIC \"-//W3C//DTD SVG 1.1//EN\"\n",
       " \"http://www.w3.org/Graphics/SVG/1.1/DTD/svg11.dtd\">\n",
       "<!-- Generated by graphviz version 3.0.0 (20220226.1711)\n",
       " -->\n",
       "<!-- Title: MDP Pages: 1 -->\n",
       "<svg width=\"1234pt\" height=\"310pt\"\n",
       " viewBox=\"0.00 0.00 1233.97 310.00\" xmlns=\"http://www.w3.org/2000/svg\" xmlns:xlink=\"http://www.w3.org/1999/xlink\">\n",
       "<g id=\"graph0\" class=\"graph\" transform=\"scale(1 1) rotate(0) translate(4 306)\">\n",
       "<title>MDP</title>\n",
       "<polygon fill=\"white\" stroke=\"transparent\" points=\"-4,4 -4,-306 1229.97,-306 1229.97,4 -4,4\"/>\n",
       "<!-- s0 -->\n",
       "<g id=\"node1\" class=\"node\">\n",
       "<title>s0</title>\n",
       "<ellipse fill=\"#85ff75\" stroke=\"#85ff75\" cx=\"75.42\" cy=\"-110\" rx=\"71.34\" ry=\"71.34\"/>\n",
       "<ellipse fill=\"none\" stroke=\"#85ff75\" cx=\"75.42\" cy=\"-110\" rx=\"75.34\" ry=\"75.34\"/>\n",
       "<text text-anchor=\"middle\" x=\"75.42\" y=\"-116.8\" font-family=\"Arial\" font-size=\"24.00\">s0</text>\n",
       "<text text-anchor=\"middle\" x=\"75.42\" y=\"-90.8\" font-family=\"Arial\" font-size=\"24.00\">V =3.78</text>\n",
       "</g>\n",
       "<!-- s0&#45;a0 -->\n",
       "<g id=\"node2\" class=\"node\">\n",
       "<title>s0&#45;a0</title>\n",
       "<ellipse fill=\"lightpink\" stroke=\"lightpink\" cx=\"263.41\" cy=\"-154\" rx=\"27.65\" ry=\"27.65\"/>\n",
       "<text text-anchor=\"middle\" x=\"263.41\" y=\"-149\" font-family=\"Arial\" font-size=\"20.00\">a0</text>\n",
       "</g>\n",
       "<!-- s0&#45;&gt;s0&#45;a0 -->\n",
       "<g id=\"edge1\" class=\"edge\">\n",
       "<title>s0&#45;&gt;s0&#45;a0</title>\n",
       "<path fill=\"none\" stroke=\"red\" stroke-width=\"2\" d=\"M150.03,-121.52C172.03,-125.64 196.07,-130.82 217.84,-137 221.2,-137.96 224.68,-139.06 228.13,-140.24\"/>\n",
       "<polygon fill=\"red\" stroke=\"red\" stroke-width=\"2\" points=\"227.09,-143.58 237.68,-143.68 229.46,-137 227.09,-143.58\"/>\n",
       "</g>\n",
       "<!-- s0&#45;a1 -->\n",
       "<g id=\"node4\" class=\"node\">\n",
       "<title>s0&#45;a1</title>\n",
       "<ellipse fill=\"lightpink\" stroke=\"lightpink\" cx=\"263.41\" cy=\"-227\" rx=\"27.65\" ry=\"27.65\"/>\n",
       "<text text-anchor=\"middle\" x=\"263.41\" y=\"-222\" font-family=\"Arial\" font-size=\"20.00\">a1</text>\n",
       "</g>\n",
       "<!-- s0&#45;&gt;s0&#45;a1 -->\n",
       "<g id=\"edge4\" class=\"edge\">\n",
       "<title>s0&#45;&gt;s0&#45;a1</title>\n",
       "<path fill=\"none\" stroke=\"red\" stroke-width=\"2\" d=\"M139.65,-149.77C170.41,-169.13 206.03,-191.54 230.96,-207.21\"/>\n",
       "<polygon fill=\"red\" stroke=\"red\" stroke-width=\"2\" points=\"229.3,-210.3 239.63,-212.67 233.03,-204.38 229.3,-210.3\"/>\n",
       "</g>\n",
       "<!-- s0&#45;a0&#45;&gt;s0 -->\n",
       "<g id=\"edge2\" class=\"edge\">\n",
       "<title>s0&#45;a0&#45;&gt;s0</title>\n",
       "<path fill=\"none\" stroke=\"blue\" stroke-dasharray=\"5,2\" d=\"M236.13,-148.7C217.33,-144.83 191.47,-139.35 168.84,-134 165.43,-133.19 161.95,-132.36 158.44,-131.5\"/>\n",
       "<polygon fill=\"blue\" stroke=\"blue\" points=\"159.04,-128.04 148.49,-129.04 157.36,-134.84 159.04,-128.04\"/>\n",
       "<text text-anchor=\"middle\" x=\"193.34\" y=\"-150.2\" font-family=\"Arial\" font-size=\"16.00\">p = 0.5</text>\n",
       "</g>\n",
       "<!-- s2 -->\n",
       "<g id=\"node3\" class=\"node\">\n",
       "<title>s2</title>\n",
       "<ellipse fill=\"#85ff75\" stroke=\"#85ff75\" cx=\"536.41\" cy=\"-201\" rx=\"71.34\" ry=\"71.34\"/>\n",
       "<ellipse fill=\"none\" stroke=\"#85ff75\" cx=\"536.41\" cy=\"-201\" rx=\"75.34\" ry=\"75.34\"/>\n",
       "<text text-anchor=\"middle\" x=\"536.41\" y=\"-207.8\" font-family=\"Arial\" font-size=\"24.00\">s2</text>\n",
       "<text text-anchor=\"middle\" x=\"536.41\" y=\"-181.8\" font-family=\"Arial\" font-size=\"24.00\">V =4.20</text>\n",
       "</g>\n",
       "<!-- s0&#45;a0&#45;&gt;s2 -->\n",
       "<g id=\"edge3\" class=\"edge\">\n",
       "<title>s0&#45;a0&#45;&gt;s2</title>\n",
       "<path fill=\"none\" stroke=\"blue\" stroke-dasharray=\"5,2\" d=\"M290.89,-158.59C327.88,-165.01 396.68,-176.94 451.9,-186.52\"/>\n",
       "<polygon fill=\"blue\" stroke=\"blue\" points=\"451.59,-190.02 462.04,-188.28 452.79,-183.12 451.59,-190.02\"/>\n",
       "<text text-anchor=\"middle\" x=\"375.99\" y=\"-190.2\" font-family=\"Arial\" font-size=\"16.00\">p = 0.5</text>\n",
       "</g>\n",
       "<!-- s2&#45;a0 -->\n",
       "<g id=\"node8\" class=\"node\">\n",
       "<title>s2&#45;a0</title>\n",
       "<ellipse fill=\"lightpink\" stroke=\"lightpink\" cx=\"804.4\" cy=\"-162\" rx=\"27.65\" ry=\"27.65\"/>\n",
       "<text text-anchor=\"middle\" x=\"804.4\" y=\"-157\" font-family=\"Arial\" font-size=\"20.00\">a0</text>\n",
       "</g>\n",
       "<!-- s2&#45;&gt;s2&#45;a0 -->\n",
       "<g id=\"edge13\" class=\"edge\">\n",
       "<title>s2&#45;&gt;s2&#45;a0</title>\n",
       "<path fill=\"none\" stroke=\"red\" stroke-width=\"2\" d=\"M611.93,-200.05C655.34,-198.07 710.82,-193.08 758.83,-181 762.47,-180.08 766.19,-178.91 769.86,-177.6\"/>\n",
       "<polygon fill=\"red\" stroke=\"red\" stroke-width=\"2\" points=\"771.32,-180.78 779.35,-173.87 768.77,-174.27 771.32,-180.78\"/>\n",
       "</g>\n",
       "<!-- s2&#45;a1 -->\n",
       "<g id=\"node9\" class=\"node\">\n",
       "<title>s2&#45;a1</title>\n",
       "<ellipse fill=\"lightpink\" stroke=\"lightpink\" cx=\"804.4\" cy=\"-80\" rx=\"27.65\" ry=\"27.65\"/>\n",
       "<text text-anchor=\"middle\" x=\"804.4\" y=\"-75\" font-family=\"Arial\" font-size=\"20.00\">a1</text>\n",
       "</g>\n",
       "<!-- s2&#45;&gt;s2&#45;a1 -->\n",
       "<g id=\"edge16\" class=\"edge\">\n",
       "<title>s2&#45;&gt;s2&#45;a1</title>\n",
       "<path fill=\"none\" stroke=\"red\" stroke-width=\"2\" d=\"M601.96,-163.24C611.21,-158.25 620.69,-153.36 629.83,-149 676.9,-126.52 733.36,-105.05 768.82,-92.19\"/>\n",
       "<polygon fill=\"red\" stroke=\"red\" stroke-width=\"2\" points=\"770.01,-95.48 778.23,-88.8 767.64,-88.89 770.01,-95.48\"/>\n",
       "</g>\n",
       "<!-- s0&#45;a1&#45;&gt;s2 -->\n",
       "<g id=\"edge5\" class=\"edge\">\n",
       "<title>s0&#45;a1&#45;&gt;s2</title>\n",
       "<path fill=\"none\" stroke=\"blue\" stroke-dasharray=\"5,2\" d=\"M290.89,-224.46C327.69,-220.93 395.98,-214.38 451.06,-209.09\"/>\n",
       "<polygon fill=\"blue\" stroke=\"blue\" points=\"451.56,-212.56 461.18,-208.12 450.89,-205.59 451.56,-212.56\"/>\n",
       "<text text-anchor=\"middle\" x=\"375.99\" y=\"-227.2\" font-family=\"Arial\" font-size=\"16.00\">p = 1</text>\n",
       "</g>\n",
       "<!-- s1 -->\n",
       "<g id=\"node5\" class=\"node\">\n",
       "<title>s1</title>\n",
       "<ellipse fill=\"#85ff75\" stroke=\"#85ff75\" cx=\"1001.4\" cy=\"-110\" rx=\"71.34\" ry=\"71.34\"/>\n",
       "<ellipse fill=\"none\" stroke=\"#85ff75\" cx=\"1001.4\" cy=\"-110\" rx=\"75.34\" ry=\"75.34\"/>\n",
       "<text text-anchor=\"middle\" x=\"1001.4\" y=\"-116.8\" font-family=\"Arial\" font-size=\"24.00\">s1</text>\n",
       "<text text-anchor=\"middle\" x=\"1001.4\" y=\"-90.8\" font-family=\"Arial\" font-size=\"24.00\">V =7.29</text>\n",
       "</g>\n",
       "<!-- s1&#45;a0 -->\n",
       "<g id=\"node6\" class=\"node\">\n",
       "<title>s1&#45;a0</title>\n",
       "<ellipse fill=\"lightpink\" stroke=\"lightpink\" cx=\"1198.39\" cy=\"-86\" rx=\"27.65\" ry=\"27.65\"/>\n",
       "<text text-anchor=\"middle\" x=\"1198.39\" y=\"-81\" font-family=\"Arial\" font-size=\"20.00\">a0</text>\n",
       "</g>\n",
       "<!-- s1&#45;&gt;s1&#45;a0 -->\n",
       "<g id=\"edge6\" class=\"edge\">\n",
       "<title>s1&#45;&gt;s1&#45;a0</title>\n",
       "<path fill=\"none\" stroke=\"red\" stroke-width=\"2\" d=\"M1076.84,-104.97C1101.15,-102.82 1128.21,-99.89 1152.82,-96 1155.51,-95.57 1158.29,-95.08 1161.08,-94.55\"/>\n",
       "<polygon fill=\"red\" stroke=\"red\" stroke-width=\"2\" points=\"1162.01,-97.93 1171.1,-92.48 1160.6,-91.07 1162.01,-97.93\"/>\n",
       "</g>\n",
       "<!-- s1&#45;a1 -->\n",
       "<g id=\"node7\" class=\"node\">\n",
       "<title>s1&#45;a1</title>\n",
       "<ellipse fill=\"lightpink\" stroke=\"lightpink\" cx=\"1198.39\" cy=\"-168\" rx=\"27.65\" ry=\"27.65\"/>\n",
       "<text text-anchor=\"middle\" x=\"1198.39\" y=\"-163\" font-family=\"Arial\" font-size=\"20.00\">a1</text>\n",
       "</g>\n",
       "<!-- s1&#45;&gt;s1&#45;a1 -->\n",
       "<g id=\"edge10\" class=\"edge\">\n",
       "<title>s1&#45;&gt;s1&#45;a1</title>\n",
       "<path fill=\"none\" stroke=\"red\" stroke-width=\"2\" d=\"M1075.35,-126.58C1100.17,-132.84 1127.92,-140.52 1152.82,-149 1156.37,-150.21 1160.04,-151.58 1163.67,-153.01\"/>\n",
       "<polygon fill=\"red\" stroke=\"red\" stroke-width=\"2\" points=\"1162.54,-156.32 1173.12,-156.88 1165.2,-149.85 1162.54,-156.32\"/>\n",
       "</g>\n",
       "<!-- s1&#45;a0&#45;&gt;s0 -->\n",
       "<g id=\"edge7\" class=\"edge\">\n",
       "<title>s1&#45;a0&#45;&gt;s0</title>\n",
       "<path fill=\"none\" stroke=\"blue\" stroke-dasharray=\"5,2\" d=\"M1175.95,-69.42C1141.43,-44.43 1070.48,0 1002.4,0 262.41,0 262.41,0 262.41,0 216.57,0 172.11,-25.07 138.16,-51.27\"/>\n",
       "<polygon fill=\"blue\" stroke=\"blue\" points=\"135.86,-48.62 130.2,-57.58 140.21,-54.11 135.86,-48.62\"/>\n",
       "<text text-anchor=\"middle\" x=\"694.33\" y=\"-5.2\" font-family=\"Arial\" font-size=\"16.00\">p = 0.7 &#160;reward =5</text>\n",
       "</g>\n",
       "<!-- s1&#45;a0&#45;&gt;s2 -->\n",
       "<g id=\"edge9\" class=\"edge\">\n",
       "<title>s1&#45;a0&#45;&gt;s2</title>\n",
       "<path fill=\"none\" stroke=\"blue\" stroke-dasharray=\"5,2\" d=\"M1182.71,-108.89C1178.58,-115.84 1174.27,-123.6 1170.82,-131 1160.66,-152.78 1171.29,-166.62 1152.82,-182 1126.53,-203.87 1110.87,-190.84 1076.82,-194 916.69,-208.85 728.69,-206.93 622.25,-204.05\"/>\n",
       "<polygon fill=\"blue\" stroke=\"blue\" points=\"622.3,-200.55 612.21,-203.77 622.11,-207.55 622.3,-200.55\"/>\n",
       "<text text-anchor=\"middle\" x=\"878.98\" y=\"-210.2\" font-family=\"Arial\" font-size=\"16.00\">p = 0.2</text>\n",
       "</g>\n",
       "<!-- s1&#45;a0&#45;&gt;s1 -->\n",
       "<g id=\"edge8\" class=\"edge\">\n",
       "<title>s1&#45;a0&#45;&gt;s1</title>\n",
       "<path fill=\"none\" stroke=\"blue\" stroke-dasharray=\"5,2\" d=\"M1171.7,-77.85C1165.57,-76.25 1159.01,-74.82 1152.82,-74 1127.26,-70.62 1120.15,-69.24 1094.82,-74 1090.09,-74.89 1085.3,-76.01 1080.51,-77.3\"/>\n",
       "<polygon fill=\"blue\" stroke=\"blue\" points=\"1079.32,-74.01 1070.71,-80.18 1081.29,-80.72 1079.32,-74.01\"/>\n",
       "<text text-anchor=\"middle\" x=\"1123.82\" y=\"-79.2\" font-family=\"Arial\" font-size=\"16.00\">p = 0.1</text>\n",
       "</g>\n",
       "<!-- s1&#45;a1&#45;&gt;s2 -->\n",
       "<g id=\"edge12\" class=\"edge\">\n",
       "<title>s1&#45;a1&#45;&gt;s2</title>\n",
       "<path fill=\"none\" stroke=\"blue\" stroke-dasharray=\"5,2\" d=\"M1187.43,-193.31C1180.2,-208 1168.85,-225.27 1152.82,-234 980.81,-327.65 740.16,-270.51 616.96,-230.33\"/>\n",
       "<polygon fill=\"blue\" stroke=\"blue\" points=\"617.8,-226.93 607.21,-227.11 615.6,-233.57 617.8,-226.93\"/>\n",
       "<text text-anchor=\"middle\" x=\"878.98\" y=\"-289.2\" font-family=\"Arial\" font-size=\"16.00\">p = 0.05</text>\n",
       "</g>\n",
       "<!-- s1&#45;a1&#45;&gt;s1 -->\n",
       "<g id=\"edge11\" class=\"edge\">\n",
       "<title>s1&#45;a1&#45;&gt;s1</title>\n",
       "<path fill=\"none\" stroke=\"blue\" stroke-dasharray=\"5,2\" d=\"M1170.96,-163.54C1150.07,-159.72 1120.29,-153.64 1094.82,-146 1090.26,-144.63 1085.62,-143.14 1080.95,-141.57\"/>\n",
       "<polygon fill=\"blue\" stroke=\"blue\" points=\"1081.96,-138.22 1071.37,-138.25 1079.67,-144.83 1081.96,-138.22\"/>\n",
       "<text text-anchor=\"middle\" x=\"1123.82\" y=\"-165.2\" font-family=\"Arial\" font-size=\"16.00\">p = 0.95</text>\n",
       "</g>\n",
       "<!-- s2&#45;a0&#45;&gt;s0 -->\n",
       "<g id=\"edge14\" class=\"edge\">\n",
       "<title>s2&#45;a0&#45;&gt;s0</title>\n",
       "<path fill=\"none\" stroke=\"blue\" stroke-dasharray=\"5,2\" d=\"M777.71,-153.93C741.26,-142.96 672.25,-123.9 611.83,-117 453.39,-98.91 266.89,-101.92 161.07,-105.87\"/>\n",
       "<polygon fill=\"blue\" stroke=\"blue\" points=\"160.62,-102.39 150.77,-106.27 160.89,-109.38 160.62,-102.39\"/>\n",
       "<text text-anchor=\"middle\" x=\"375.99\" y=\"-110.2\" font-family=\"Arial\" font-size=\"16.00\">p = 0.4</text>\n",
       "</g>\n",
       "<!-- s2&#45;a0&#45;&gt;s2 -->\n",
       "<g id=\"edge15\" class=\"edge\">\n",
       "<title>s2&#45;a0&#45;&gt;s2</title>\n",
       "<path fill=\"none\" stroke=\"blue\" stroke-dasharray=\"5,2\" d=\"M776.86,-157.82C742.49,-153.24 680.93,-147.93 629.83,-159 624.44,-160.17 619,-161.67 613.58,-163.42\"/>\n",
       "<polygon fill=\"blue\" stroke=\"blue\" points=\"612.18,-160.2 603.9,-166.8 614.49,-166.81 612.18,-160.2\"/>\n",
       "<text text-anchor=\"middle\" x=\"694.33\" y=\"-164.2\" font-family=\"Arial\" font-size=\"16.00\">p = 0.6</text>\n",
       "</g>\n",
       "<!-- s2&#45;a1&#45;&gt;s0 -->\n",
       "<g id=\"edge17\" class=\"edge\">\n",
       "<title>s2&#45;a1&#45;&gt;s0</title>\n",
       "<path fill=\"none\" stroke=\"blue\" stroke-dasharray=\"5,2\" d=\"M780.63,-65.62C773.87,-62.09 766.27,-58.81 758.83,-57 703.11,-43.47 687.16,-56.91 629.83,-57 487.23,-57.22 450.96,-44.72 308.99,-58 245.91,-63.9 230.54,-69.63 168.84,-84 165.26,-84.83 161.61,-85.72 157.93,-86.63\"/>\n",
       "<polygon fill=\"blue\" stroke=\"blue\" points=\"156.97,-83.27 148.15,-89.13 158.7,-90.05 156.97,-83.27\"/>\n",
       "<text text-anchor=\"middle\" x=\"375.99\" y=\"-63.2\" font-family=\"Arial\" font-size=\"16.00\">p = 0.3 &#160;reward =&#45;1</text>\n",
       "</g>\n",
       "<!-- s2&#45;a1&#45;&gt;s2 -->\n",
       "<g id=\"edge19\" class=\"edge\">\n",
       "<title>s2&#45;a1&#45;&gt;s2</title>\n",
       "<path fill=\"none\" stroke=\"blue\" stroke-dasharray=\"5,2\" d=\"M777.91,-72.06C742.55,-62.57 677.56,-50.81 629.83,-75 608.02,-86.05 590.11,-104.94 576.06,-124.77\"/>\n",
       "<polygon fill=\"blue\" stroke=\"blue\" points=\"572.98,-123.07 570.27,-133.31 578.78,-127 572.98,-123.07\"/>\n",
       "<text text-anchor=\"middle\" x=\"694.33\" y=\"-80.2\" font-family=\"Arial\" font-size=\"16.00\">p = 0.4</text>\n",
       "</g>\n",
       "<!-- s2&#45;a1&#45;&gt;s1 -->\n",
       "<g id=\"edge18\" class=\"edge\">\n",
       "<title>s2&#45;a1&#45;&gt;s1</title>\n",
       "<path fill=\"none\" stroke=\"blue\" stroke-dasharray=\"5,2\" d=\"M831.7,-84.05C853.56,-87.41 885.91,-92.39 916.45,-97.08\"/>\n",
       "<polygon fill=\"blue\" stroke=\"blue\" points=\"916.3,-100.6 926.72,-98.66 917.37,-93.68 916.3,-100.6\"/>\n",
       "<text text-anchor=\"middle\" x=\"878.98\" y=\"-100.2\" font-family=\"Arial\" font-size=\"16.00\">p = 0.3</text>\n",
       "</g>\n",
       "</g>\n",
       "</svg>\n"
      ],
      "text/plain": [
       "<graphviz.graphs.Digraph at 0x2199bf56f48>"
      ]
     },
     "metadata": {},
     "output_type": "display_data"
    }
   ],
   "source": [
    "if has_graphviz:\n",
    "    display(plot_graph_with_state_values(mdp, state_values))"
   ]
  },
  {
   "cell_type": "code",
   "execution_count": 15,
   "metadata": {},
   "outputs": [
    {
     "name": "stdout",
     "output_type": "stream",
     "text": [
      "Final state values: {'s0': 3.7810348735476405, 's1': 7.294006423867229, 's2': 4.202140275227048}\n"
     ]
    }
   ],
   "source": [
    "print(\"Final state values:\", state_values)\n",
    "\n",
    "assert abs(state_values['s0'] - 3.781) < 0.01\n",
    "assert abs(state_values['s1'] - 7.294) < 0.01\n",
    "assert abs(state_values['s2'] - 4.202) < 0.01"
   ]
  },
  {
   "cell_type": "markdown",
   "metadata": {},
   "source": [
    "Now let's use those $V^{*}(s)$ to find optimal actions in each state\n",
    "\n",
    " $$\\pi^*(s) = argmax_a \\sum_{s'} P(s' | s,a) \\cdot [ r(s,a,s') + \\gamma V_{i}(s')] = argmax_a Q_i(s,a)$$\n",
    " \n",
    "The only difference vs V(s) is that here we take not max but argmax: find action such with maximum Q(s,a)."
   ]
  },
  {
   "cell_type": "code",
   "execution_count": 16,
   "metadata": {},
   "outputs": [],
   "source": [
    "def get_optimal_action(mdp, state_values, state, gamma=0.9):\n",
    "    \"\"\" Finds optimal action using formula above. \"\"\"\n",
    "    if mdp.is_terminal(state):\n",
    "        return None\n",
    "\n",
    "    arg_max_Q = -1\n",
    "    \n",
    "    for action_max in mdp.get_possible_actions(state):\n",
    "        if get_action_value(mdp, state_values, state, \n",
    "                            action_max, gamma) == get_new_state_value(mdp, state_values, state, gamma):\n",
    "            arg_max_Q = action_max\n",
    "\n",
    "    return arg_max_Q"
   ]
  },
  {
   "cell_type": "code",
   "execution_count": 17,
   "metadata": {},
   "outputs": [],
   "source": [
    "assert get_optimal_action(mdp, state_values, 's0', gamma) == 'a1'\n",
    "assert get_optimal_action(mdp, state_values, 's1', gamma) == 'a0'\n",
    "assert get_optimal_action(mdp, state_values, 's2', gamma) == 'a1'\n",
    "\n",
    "assert get_optimal_action(mdp, {'s0': -1e10, 's1': 0, 's2': -2e10}, 's0', 0.9) == 'a0', \\\n",
    "    \"Please ensure that you handle negative Q-values of arbitrary magnitude correctly\"\n",
    "assert get_optimal_action(mdp, {'s0': -2e10, 's1': 0, 's2': -1e10}, 's0', 0.9) == 'a1', \\\n",
    "    \"Please ensure that you handle negative Q-values of arbitrary magnitude correctly\""
   ]
  },
  {
   "cell_type": "code",
   "execution_count": 18,
   "metadata": {},
   "outputs": [
    {
     "data": {
      "image/svg+xml": [
       "<?xml version=\"1.0\" encoding=\"UTF-8\" standalone=\"no\"?>\n",
       "<!DOCTYPE svg PUBLIC \"-//W3C//DTD SVG 1.1//EN\"\n",
       " \"http://www.w3.org/Graphics/SVG/1.1/DTD/svg11.dtd\">\n",
       "<!-- Generated by graphviz version 3.0.0 (20220226.1711)\n",
       " -->\n",
       "<!-- Title: MDP Pages: 1 -->\n",
       "<svg width=\"1234pt\" height=\"336pt\"\n",
       " viewBox=\"0.00 0.00 1233.97 336.00\" xmlns=\"http://www.w3.org/2000/svg\" xmlns:xlink=\"http://www.w3.org/1999/xlink\">\n",
       "<g id=\"graph0\" class=\"graph\" transform=\"scale(1 1) rotate(0) translate(4 332)\">\n",
       "<title>MDP</title>\n",
       "<polygon fill=\"white\" stroke=\"transparent\" points=\"-4,4 -4,-332 1229.97,-332 1229.97,4 -4,4\"/>\n",
       "<!-- s0 -->\n",
       "<g id=\"node1\" class=\"node\">\n",
       "<title>s0</title>\n",
       "<ellipse fill=\"#85ff75\" stroke=\"#85ff75\" cx=\"75.42\" cy=\"-129\" rx=\"71.34\" ry=\"71.34\"/>\n",
       "<ellipse fill=\"none\" stroke=\"#85ff75\" cx=\"75.42\" cy=\"-129\" rx=\"75.34\" ry=\"75.34\"/>\n",
       "<text text-anchor=\"middle\" x=\"75.42\" y=\"-135.8\" font-family=\"Arial\" font-size=\"24.00\">s0</text>\n",
       "<text text-anchor=\"middle\" x=\"75.42\" y=\"-109.8\" font-family=\"Arial\" font-size=\"24.00\">V =3.78</text>\n",
       "</g>\n",
       "<!-- s0&#45;a0 -->\n",
       "<g id=\"node2\" class=\"node\">\n",
       "<title>s0&#45;a0</title>\n",
       "<ellipse fill=\"lightpink\" stroke=\"lightpink\" cx=\"263.41\" cy=\"-160\" rx=\"27.65\" ry=\"27.65\"/>\n",
       "<text text-anchor=\"middle\" x=\"263.41\" y=\"-155\" font-family=\"Arial\" font-size=\"20.00\">a0</text>\n",
       "</g>\n",
       "<!-- s0&#45;&gt;s0&#45;a0 -->\n",
       "<g id=\"edge1\" class=\"edge\">\n",
       "<title>s0&#45;&gt;s0&#45;a0</title>\n",
       "<path fill=\"none\" stroke=\"red\" stroke-width=\"2\" d=\"M150.79,-132.63C172.59,-134.7 196.34,-137.93 217.84,-143 221.24,-143.8 224.74,-144.81 228.21,-145.92\"/>\n",
       "<polygon fill=\"red\" stroke=\"red\" stroke-width=\"2\" points=\"227.19,-149.27 237.79,-149.27 229.51,-142.66 227.19,-149.27\"/>\n",
       "</g>\n",
       "<!-- s0&#45;a1 -->\n",
       "<g id=\"node4\" class=\"node\">\n",
       "<title>s0&#45;a1</title>\n",
       "<ellipse fill=\"lightpink\" stroke=\"lightpink\" cx=\"263.41\" cy=\"-233\" rx=\"27.65\" ry=\"27.65\"/>\n",
       "<text text-anchor=\"middle\" x=\"263.41\" y=\"-228\" font-family=\"Arial\" font-size=\"20.00\">a1</text>\n",
       "</g>\n",
       "<!-- s0&#45;&gt;s0&#45;a1 -->\n",
       "<g id=\"edge4\" class=\"edge\">\n",
       "<title>s0&#45;&gt;s0&#45;a1</title>\n",
       "<path fill=\"none\" stroke=\"red\" stroke-width=\"2\" d=\"M144.09,-160.32C174.49,-176.75 208.79,-196.4 232.6,-211.22\"/>\n",
       "<polygon fill=\"red\" stroke=\"red\" stroke-width=\"2\" points=\"230.86,-214.26 241.18,-216.64 234.6,-208.34 230.86,-214.26\"/>\n",
       "</g>\n",
       "<!-- s0&#45;&gt;s0&#45;a1 -->\n",
       "<g id=\"edge20\" class=\"edge\">\n",
       "<title>s0&#45;&gt;s0&#45;a1</title>\n",
       "<path fill=\"none\" stroke=\"green\" stroke-width=\"6\" d=\"M138.61,-170.18C168.39,-187.52 202.92,-206.48 227.93,-219.1\"/>\n",
       "<polygon fill=\"green\" stroke=\"green\" stroke-width=\"6\" points=\"225.73,-223.87 237.02,-223.61 230.4,-214.47 225.73,-223.87\"/>\n",
       "</g>\n",
       "<!-- s0&#45;a0&#45;&gt;s0 -->\n",
       "<g id=\"edge2\" class=\"edge\">\n",
       "<title>s0&#45;a0&#45;&gt;s0</title>\n",
       "<path fill=\"none\" stroke=\"blue\" stroke-dasharray=\"5,2\" d=\"M235.75,-155.56C215.78,-152.23 187.31,-147.48 159.94,-142.92\"/>\n",
       "<polygon fill=\"blue\" stroke=\"blue\" points=\"160.37,-139.44 149.93,-141.25 159.22,-146.35 160.37,-139.44\"/>\n",
       "<text text-anchor=\"middle\" x=\"193.34\" y=\"-158.2\" font-family=\"Arial\" font-size=\"16.00\">p = 0.5</text>\n",
       "</g>\n",
       "<!-- s2 -->\n",
       "<g id=\"node3\" class=\"node\">\n",
       "<title>s2</title>\n",
       "<ellipse fill=\"#85ff75\" stroke=\"#85ff75\" cx=\"536.41\" cy=\"-207\" rx=\"71.34\" ry=\"71.34\"/>\n",
       "<ellipse fill=\"none\" stroke=\"#85ff75\" cx=\"536.41\" cy=\"-207\" rx=\"75.34\" ry=\"75.34\"/>\n",
       "<text text-anchor=\"middle\" x=\"536.41\" y=\"-213.8\" font-family=\"Arial\" font-size=\"24.00\">s2</text>\n",
       "<text text-anchor=\"middle\" x=\"536.41\" y=\"-187.8\" font-family=\"Arial\" font-size=\"24.00\">V =4.20</text>\n",
       "</g>\n",
       "<!-- s0&#45;a0&#45;&gt;s2 -->\n",
       "<g id=\"edge3\" class=\"edge\">\n",
       "<title>s0&#45;a0&#45;&gt;s2</title>\n",
       "<path fill=\"none\" stroke=\"blue\" stroke-dasharray=\"5,2\" d=\"M290.89,-164.59C327.88,-171.01 396.68,-182.94 451.9,-192.52\"/>\n",
       "<polygon fill=\"blue\" stroke=\"blue\" points=\"451.59,-196.02 462.04,-194.28 452.79,-189.12 451.59,-196.02\"/>\n",
       "<text text-anchor=\"middle\" x=\"375.99\" y=\"-196.2\" font-family=\"Arial\" font-size=\"16.00\">p = 0.5</text>\n",
       "</g>\n",
       "<!-- s2&#45;a0 -->\n",
       "<g id=\"node8\" class=\"node\">\n",
       "<title>s2&#45;a0</title>\n",
       "<ellipse fill=\"lightpink\" stroke=\"lightpink\" cx=\"804.4\" cy=\"-181\" rx=\"27.65\" ry=\"27.65\"/>\n",
       "<text text-anchor=\"middle\" x=\"804.4\" y=\"-176\" font-family=\"Arial\" font-size=\"20.00\">a0</text>\n",
       "</g>\n",
       "<!-- s2&#45;&gt;s2&#45;a0 -->\n",
       "<g id=\"edge13\" class=\"edge\">\n",
       "<title>s2&#45;&gt;s2&#45;a0</title>\n",
       "<path fill=\"none\" stroke=\"red\" stroke-width=\"2\" d=\"M611.75,-210.69C655.1,-211.27 710.58,-209.28 758.83,-199 762.28,-198.26 765.8,-197.28 769.29,-196.15\"/>\n",
       "<polygon fill=\"red\" stroke=\"red\" stroke-width=\"2\" points=\"770.69,-199.37 778.89,-192.67 768.3,-192.79 770.69,-199.37\"/>\n",
       "</g>\n",
       "<!-- s2&#45;a1 -->\n",
       "<g id=\"node9\" class=\"node\">\n",
       "<title>s2&#45;a1</title>\n",
       "<ellipse fill=\"lightpink\" stroke=\"lightpink\" cx=\"804.4\" cy=\"-108\" rx=\"27.65\" ry=\"27.65\"/>\n",
       "<text text-anchor=\"middle\" x=\"804.4\" y=\"-103\" font-family=\"Arial\" font-size=\"20.00\">a1</text>\n",
       "</g>\n",
       "<!-- s2&#45;&gt;s2&#45;a1 -->\n",
       "<g id=\"edge16\" class=\"edge\">\n",
       "<title>s2&#45;&gt;s2&#45;a1</title>\n",
       "<path fill=\"none\" stroke=\"red\" stroke-width=\"2\" d=\"M602.62,-170.78C611.73,-167.02 620.99,-163.37 629.83,-160 676.82,-142.09 731.67,-123.14 766.94,-113.29\"/>\n",
       "<polygon fill=\"red\" stroke=\"red\" stroke-width=\"2\" points=\"768.03,-116.62 776.78,-110.65 766.21,-109.86 768.03,-116.62\"/>\n",
       "</g>\n",
       "<!-- s2&#45;&gt;s2&#45;a1 -->\n",
       "<g id=\"edge22\" class=\"edge\">\n",
       "<title>s2&#45;&gt;s2&#45;a1</title>\n",
       "<path fill=\"none\" stroke=\"green\" stroke-width=\"6\" d=\"M608.91,-186.13C615.95,-183.36 623.02,-180.59 629.83,-178 678.66,-159.39 735.98,-139.65 770.98,-125.48\"/>\n",
       "<polygon fill=\"green\" stroke=\"green\" stroke-width=\"6\" points=\"773.02,-130.32 780.24,-121.63 768.99,-120.62 773.02,-130.32\"/>\n",
       "</g>\n",
       "<!-- s0&#45;a1&#45;&gt;s2 -->\n",
       "<g id=\"edge5\" class=\"edge\">\n",
       "<title>s0&#45;a1&#45;&gt;s2</title>\n",
       "<path fill=\"none\" stroke=\"blue\" stroke-dasharray=\"5,2\" d=\"M290.89,-230.46C327.69,-226.93 395.98,-220.38 451.06,-215.09\"/>\n",
       "<polygon fill=\"blue\" stroke=\"blue\" points=\"451.56,-218.56 461.18,-214.12 450.89,-211.59 451.56,-218.56\"/>\n",
       "<text text-anchor=\"middle\" x=\"375.99\" y=\"-233.2\" font-family=\"Arial\" font-size=\"16.00\">p = 1</text>\n",
       "</g>\n",
       "<!-- s1 -->\n",
       "<g id=\"node5\" class=\"node\">\n",
       "<title>s1</title>\n",
       "<ellipse fill=\"#85ff75\" stroke=\"#85ff75\" cx=\"1001.4\" cy=\"-127\" rx=\"71.34\" ry=\"71.34\"/>\n",
       "<ellipse fill=\"none\" stroke=\"#85ff75\" cx=\"1001.4\" cy=\"-127\" rx=\"75.34\" ry=\"75.34\"/>\n",
       "<text text-anchor=\"middle\" x=\"1001.4\" y=\"-133.8\" font-family=\"Arial\" font-size=\"24.00\">s1</text>\n",
       "<text text-anchor=\"middle\" x=\"1001.4\" y=\"-107.8\" font-family=\"Arial\" font-size=\"24.00\">V =7.29</text>\n",
       "</g>\n",
       "<!-- s1&#45;a0 -->\n",
       "<g id=\"node6\" class=\"node\">\n",
       "<title>s1&#45;a0</title>\n",
       "<ellipse fill=\"lightpink\" stroke=\"lightpink\" cx=\"1198.39\" cy=\"-126\" rx=\"27.65\" ry=\"27.65\"/>\n",
       "<text text-anchor=\"middle\" x=\"1198.39\" y=\"-121\" font-family=\"Arial\" font-size=\"20.00\">a0</text>\n",
       "</g>\n",
       "<!-- s1&#45;&gt;s1&#45;a0 -->\n",
       "<g id=\"edge6\" class=\"edge\">\n",
       "<title>s1&#45;&gt;s1&#45;a0</title>\n",
       "<path fill=\"none\" stroke=\"red\" stroke-width=\"2\" d=\"M1076.67,-120.04C1105.42,-119.46 1137.03,-119.68 1160.69,-120.78\"/>\n",
       "<polygon fill=\"red\" stroke=\"red\" stroke-width=\"2\" points=\"1160.78,-124.29 1170.96,-121.34 1161.16,-117.3 1160.78,-124.29\"/>\n",
       "</g>\n",
       "<!-- s1&#45;&gt;s1&#45;a0 -->\n",
       "<g id=\"edge21\" class=\"edge\">\n",
       "<title>s1&#45;&gt;s1&#45;a0</title>\n",
       "<path fill=\"none\" stroke=\"green\" stroke-width=\"6\" d=\"M1076.67,-133.2C1105.42,-133.48 1137.03,-132.93 1160.69,-131.6\"/>\n",
       "<polygon fill=\"green\" stroke=\"green\" stroke-width=\"6\" points=\"1161.32,-136.82 1170.96,-130.93 1160.64,-126.34 1161.32,-136.82\"/>\n",
       "</g>\n",
       "<!-- s1&#45;a1 -->\n",
       "<g id=\"node7\" class=\"node\">\n",
       "<title>s1&#45;a1</title>\n",
       "<ellipse fill=\"lightpink\" stroke=\"lightpink\" cx=\"1198.39\" cy=\"-199\" rx=\"27.65\" ry=\"27.65\"/>\n",
       "<text text-anchor=\"middle\" x=\"1198.39\" y=\"-194\" font-family=\"Arial\" font-size=\"20.00\">a1</text>\n",
       "</g>\n",
       "<!-- s1&#45;&gt;s1&#45;a1 -->\n",
       "<g id=\"edge10\" class=\"edge\">\n",
       "<title>s1&#45;&gt;s1&#45;a1</title>\n",
       "<path fill=\"none\" stroke=\"red\" stroke-width=\"2\" d=\"M1073.78,-149.36C1098.98,-157.74 1127.37,-167.73 1152.82,-178 1156.46,-179.47 1160.23,-181.09 1163.97,-182.76\"/>\n",
       "<polygon fill=\"red\" stroke=\"red\" stroke-width=\"2\" points=\"1162.54,-185.95 1173.09,-186.94 1165.46,-179.59 1162.54,-185.95\"/>\n",
       "</g>\n",
       "<!-- s1&#45;a0&#45;&gt;s0 -->\n",
       "<g id=\"edge7\" class=\"edge\">\n",
       "<title>s1&#45;a0&#45;&gt;s0</title>\n",
       "<path fill=\"none\" stroke=\"blue\" stroke-dasharray=\"5,2\" d=\"M1180.22,-104.91C1148.93,-69.04 1078.78,0 1002.4,0 262.41,0 262.41,0 262.41,0 212.36,0 166.07,-31.93 132.19,-64.02\"/>\n",
       "<polygon fill=\"blue\" stroke=\"blue\" points=\"129.45,-61.81 124.72,-71.29 134.33,-66.83 129.45,-61.81\"/>\n",
       "<text text-anchor=\"middle\" x=\"694.33\" y=\"-5.2\" font-family=\"Arial\" font-size=\"16.00\">p = 0.7 &#160;reward =5</text>\n",
       "</g>\n",
       "<!-- s1&#45;a0&#45;&gt;s2 -->\n",
       "<g id=\"edge9\" class=\"edge\">\n",
       "<title>s1&#45;a0&#45;&gt;s2</title>\n",
       "<path fill=\"none\" stroke=\"blue\" stroke-dasharray=\"5,2\" d=\"M1180.25,-147C1176.84,-151.76 1173.49,-156.91 1170.82,-162 1159.42,-183.64 1172.65,-199.69 1152.82,-214 1070.23,-273.59 769.42,-240.55 621.16,-219.8\"/>\n",
       "<polygon fill=\"blue\" stroke=\"blue\" points=\"621.58,-216.32 611.19,-218.39 620.6,-223.25 621.58,-216.32\"/>\n",
       "<text text-anchor=\"middle\" x=\"878.98\" y=\"-251.2\" font-family=\"Arial\" font-size=\"16.00\">p = 0.2</text>\n",
       "</g>\n",
       "<!-- s1&#45;a0&#45;&gt;s1 -->\n",
       "<g id=\"edge8\" class=\"edge\">\n",
       "<title>s1&#45;a0&#45;&gt;s1</title>\n",
       "<path fill=\"none\" stroke=\"blue\" stroke-dasharray=\"5,2\" d=\"M1174.03,-112.64C1167.38,-109.5 1160,-106.61 1152.82,-105 1130.7,-100.05 1106.51,-100.9 1084.11,-104.21\"/>\n",
       "<polygon fill=\"blue\" stroke=\"blue\" points=\"1083.25,-100.8 1073.96,-105.89 1084.4,-107.71 1083.25,-100.8\"/>\n",
       "<text text-anchor=\"middle\" x=\"1123.82\" y=\"-110.2\" font-family=\"Arial\" font-size=\"16.00\">p = 0.1</text>\n",
       "</g>\n",
       "<!-- s1&#45;a1&#45;&gt;s2 -->\n",
       "<g id=\"edge12\" class=\"edge\">\n",
       "<title>s1&#45;a1&#45;&gt;s2</title>\n",
       "<path fill=\"none\" stroke=\"blue\" stroke-dasharray=\"5,2\" d=\"M1184.04,-222.71C1176.44,-233.74 1165.83,-245.78 1152.82,-252 943.11,-352.26 855.72,-306.78 629.83,-252 624.05,-250.6 618.21,-248.8 612.42,-246.73\"/>\n",
       "<polygon fill=\"blue\" stroke=\"blue\" points=\"613.34,-243.34 602.75,-243.02 610.83,-249.87 613.34,-243.34\"/>\n",
       "<text text-anchor=\"middle\" x=\"878.98\" y=\"-315.2\" font-family=\"Arial\" font-size=\"16.00\">p = 0.05</text>\n",
       "</g>\n",
       "<!-- s1&#45;a1&#45;&gt;s1 -->\n",
       "<g id=\"edge11\" class=\"edge\">\n",
       "<title>s1&#45;a1&#45;&gt;s1</title>\n",
       "<path fill=\"none\" stroke=\"blue\" stroke-dasharray=\"5,2\" d=\"M1170.7,-195.03C1149.66,-191.42 1119.81,-185.24 1094.82,-176 1088.83,-173.79 1082.76,-171.26 1076.72,-168.55\"/>\n",
       "<polygon fill=\"blue\" stroke=\"blue\" points=\"1077.83,-165.21 1067.29,-164.15 1074.87,-171.55 1077.83,-165.21\"/>\n",
       "<text text-anchor=\"middle\" x=\"1123.82\" y=\"-197.2\" font-family=\"Arial\" font-size=\"16.00\">p = 0.95</text>\n",
       "</g>\n",
       "<!-- s2&#45;a0&#45;&gt;s0 -->\n",
       "<g id=\"edge14\" class=\"edge\">\n",
       "<title>s2&#45;a0&#45;&gt;s0</title>\n",
       "<path fill=\"none\" stroke=\"blue\" stroke-dasharray=\"5,2\" d=\"M778.53,-170.89C742.5,-156.84 673.36,-132.11 611.83,-123 453.7,-99.59 266.44,-110.34 160.52,-119.91\"/>\n",
       "<polygon fill=\"blue\" stroke=\"blue\" points=\"160.17,-116.43 150.53,-120.84 160.81,-123.4 160.17,-116.43\"/>\n",
       "<text text-anchor=\"middle\" x=\"375.99\" y=\"-116.2\" font-family=\"Arial\" font-size=\"16.00\">p = 0.4</text>\n",
       "</g>\n",
       "<!-- s2&#45;a0&#45;&gt;s2 -->\n",
       "<g id=\"edge15\" class=\"edge\">\n",
       "<title>s2&#45;a0&#45;&gt;s2</title>\n",
       "<path fill=\"none\" stroke=\"blue\" stroke-dasharray=\"5,2\" d=\"M777.03,-177.47C742.85,-173.57 681.48,-168.83 629.83,-177 625.7,-177.65 621.51,-178.46 617.31,-179.38\"/>\n",
       "<polygon fill=\"blue\" stroke=\"blue\" points=\"616.4,-176 607.49,-181.74 618.03,-182.81 616.4,-176\"/>\n",
       "<text text-anchor=\"middle\" x=\"694.33\" y=\"-182.2\" font-family=\"Arial\" font-size=\"16.00\">p = 0.6</text>\n",
       "</g>\n",
       "<!-- s2&#45;a1&#45;&gt;s0 -->\n",
       "<g id=\"edge17\" class=\"edge\">\n",
       "<title>s2&#45;a1&#45;&gt;s0</title>\n",
       "<path fill=\"none\" stroke=\"blue\" stroke-dasharray=\"5,2\" d=\"M780.02,-94.34C773.37,-91.06 765.99,-87.94 758.83,-86 565.59,-33.77 508.31,-45.67 308.99,-64 245.9,-69.8 229.52,-71.8 168.84,-90 163.96,-91.46 158.99,-93.1 154.01,-94.86\"/>\n",
       "<polygon fill=\"blue\" stroke=\"blue\" points=\"152.64,-91.63 144.45,-98.35 155.04,-98.2 152.64,-91.63\"/>\n",
       "<text text-anchor=\"middle\" x=\"375.99\" y=\"-69.2\" font-family=\"Arial\" font-size=\"16.00\">p = 0.3 &#160;reward =&#45;1</text>\n",
       "</g>\n",
       "<!-- s2&#45;a1&#45;&gt;s2 -->\n",
       "<g id=\"edge19\" class=\"edge\">\n",
       "<title>s2&#45;a1&#45;&gt;s2</title>\n",
       "<path fill=\"none\" stroke=\"blue\" stroke-dasharray=\"5,2\" d=\"M777.61,-100.28C742.46,-91.24 678.32,-80.08 629.83,-102 612.83,-109.68 597.72,-122.2 584.89,-135.96\"/>\n",
       "<polygon fill=\"blue\" stroke=\"blue\" points=\"582.03,-133.92 578,-143.71 587.26,-138.57 582.03,-133.92\"/>\n",
       "<text text-anchor=\"middle\" x=\"694.33\" y=\"-107.2\" font-family=\"Arial\" font-size=\"16.00\">p = 0.4</text>\n",
       "</g>\n",
       "<!-- s2&#45;a1&#45;&gt;s1 -->\n",
       "<g id=\"edge18\" class=\"edge\">\n",
       "<title>s2&#45;a1&#45;&gt;s1</title>\n",
       "<path fill=\"none\" stroke=\"blue\" stroke-dasharray=\"5,2\" d=\"M832.11,-110.6C853.85,-112.72 885.78,-115.83 916,-118.78\"/>\n",
       "<polygon fill=\"blue\" stroke=\"blue\" points=\"915.87,-122.28 926.17,-119.77 916.55,-115.31 915.87,-122.28\"/>\n",
       "<text text-anchor=\"middle\" x=\"878.98\" y=\"-123.2\" font-family=\"Arial\" font-size=\"16.00\">p = 0.3</text>\n",
       "</g>\n",
       "</g>\n",
       "</svg>\n"
      ],
      "text/plain": [
       "<graphviz.graphs.Digraph at 0x2199bf64608>"
      ]
     },
     "metadata": {},
     "output_type": "display_data"
    }
   ],
   "source": [
    "if has_graphviz:\n",
    "    display(plot_graph_optimal_strategy_and_state_values(mdp, state_values, get_action_value))"
   ]
  },
  {
   "cell_type": "code",
   "execution_count": 19,
   "metadata": {},
   "outputs": [
    {
     "name": "stdout",
     "output_type": "stream",
     "text": [
      "average reward:  0.468\n"
     ]
    }
   ],
   "source": [
    "# Measure agent's average reward\n",
    "\n",
    "s = mdp.reset()\n",
    "rewards = []\n",
    "for _ in range(10000):\n",
    "    s, r, done, _ = mdp.step(get_optimal_action(mdp, state_values, s, gamma))\n",
    "    rewards.append(r)\n",
    "\n",
    "print(\"average reward: \", np.mean(rewards))\n",
    "\n",
    "assert(0.40 < np.mean(rewards) < 0.55)"
   ]
  },
  {
   "cell_type": "markdown",
   "metadata": {},
   "source": [
    "### Frozen lake"
   ]
  },
  {
   "cell_type": "code",
   "execution_count": 20,
   "metadata": {},
   "outputs": [
    {
     "name": "stdout",
     "output_type": "stream",
     "text": [
      "*FFF\n",
      "FHFH\n",
      "FFFH\n",
      "HFFG\n",
      "\n"
     ]
    }
   ],
   "source": [
    "from mdp import FrozenLakeEnv\n",
    "mdp = FrozenLakeEnv(slip_chance=0)\n",
    "\n",
    "mdp.render()"
   ]
  },
  {
   "cell_type": "code",
   "execution_count": 21,
   "metadata": {},
   "outputs": [],
   "source": [
    "def value_iteration(mdp, state_values=None, gamma=0.9, num_iter=1000, min_difference=1e-5):\n",
    "    \"\"\" \n",
    "    Performs num_iter value iteration steps starting from state_values. \n",
    "    Same as before but in a function \n",
    "    \"\"\"\n",
    "    state_values = state_values or {s: 0 for s in mdp.get_all_states()}\n",
    "    for i in range(num_iter):\n",
    "\n",
    "        # Compute new state values using the functions you defined above.\n",
    "        # It must be a dict {state : new_V(state)}\n",
    "        # new_state_values = <YOUR CODE>\n",
    "        new_state_values = {s: get_new_state_value(mdp, state_values, s, gamma) for s in mdp.get_all_states()}\n",
    "\n",
    "        assert isinstance(new_state_values, dict)\n",
    "\n",
    "        # Compute difference\n",
    "        diff = max(abs(new_state_values[s] - state_values[s])\n",
    "                   for s in mdp.get_all_states())\n",
    "\n",
    "        print(\"iter %4i   |   diff: %6.5f   |   V(start): %.3f \" %\n",
    "              (i, diff, new_state_values[mdp._initial_state]))\n",
    "\n",
    "        state_values = new_state_values\n",
    "        if diff < min_difference:\n",
    "            break\n",
    "\n",
    "    return state_values"
   ]
  },
  {
   "cell_type": "code",
   "execution_count": 22,
   "metadata": {},
   "outputs": [
    {
     "name": "stdout",
     "output_type": "stream",
     "text": [
      "iter    0   |   diff: 1.00000   |   V(start): 0.000 \n",
      "iter    1   |   diff: 0.90000   |   V(start): 0.000 \n",
      "iter    2   |   diff: 0.81000   |   V(start): 0.000 \n",
      "iter    3   |   diff: 0.72900   |   V(start): 0.000 \n",
      "iter    4   |   diff: 0.65610   |   V(start): 0.000 \n",
      "iter    5   |   diff: 0.59049   |   V(start): 0.590 \n",
      "iter    6   |   diff: 0.00000   |   V(start): 0.590 \n"
     ]
    }
   ],
   "source": [
    "state_values = value_iteration(mdp)"
   ]
  },
  {
   "cell_type": "code",
   "execution_count": 23,
   "metadata": {},
   "outputs": [
    {
     "name": "stdout",
     "output_type": "stream",
     "text": [
      "*FFF\n",
      "FHFH\n",
      "FFFH\n",
      "HFFG\n",
      "\n",
      "right\n",
      "\n",
      "S*FF\n",
      "FHFH\n",
      "FFFH\n",
      "HFFG\n",
      "\n",
      "right\n",
      "\n",
      "SF*F\n",
      "FHFH\n",
      "FFFH\n",
      "HFFG\n",
      "\n",
      "down\n",
      "\n",
      "SFFF\n",
      "FH*H\n",
      "FFFH\n",
      "HFFG\n",
      "\n",
      "down\n",
      "\n",
      "SFFF\n",
      "FHFH\n",
      "FF*H\n",
      "HFFG\n",
      "\n",
      "down\n",
      "\n",
      "SFFF\n",
      "FHFH\n",
      "FFFH\n",
      "HF*G\n",
      "\n",
      "right\n",
      "\n",
      "SFFF\n",
      "FHFH\n",
      "FFFH\n",
      "HFF*\n",
      "\n"
     ]
    }
   ],
   "source": [
    "s = mdp.reset()\n",
    "mdp.render()\n",
    "for t in range(100):\n",
    "    a = get_optimal_action(mdp, state_values, s, gamma)\n",
    "    print(a, end='\\n\\n')\n",
    "    s, r, done, _ = mdp.step(a)\n",
    "    mdp.render()\n",
    "    if done:\n",
    "        break"
   ]
  },
  {
   "cell_type": "markdown",
   "metadata": {},
   "source": [
    "### Let's visualize!\n",
    "\n",
    "It's usually interesting to see what your algorithm actually learned under the hood. To do so, we'll plot state value functions and optimal actions at each VI step."
   ]
  },
  {
   "cell_type": "code",
   "execution_count": 24,
   "metadata": {},
   "outputs": [],
   "source": [
    "import matplotlib.pyplot as plt\n",
    "%matplotlib inline\n",
    "\n",
    "\n",
    "def draw_policy(mdp, state_values, figsize=(3, 3)):\n",
    "    plt.figure(figsize=figsize)\n",
    "    h, w = mdp.desc.shape\n",
    "    states = sorted(mdp.get_all_states())\n",
    "    V = np.array([state_values[s] for s in states])\n",
    "    Pi = {s: get_optimal_action(mdp, state_values, s, gamma) for s in states}\n",
    "    plt.imshow(V.reshape(w, h), cmap='gray', interpolation='none', clim=(0, 1))\n",
    "    ax = plt.gca()\n",
    "    ax.set_xticks(np.arange(h)-.5)\n",
    "    ax.set_yticks(np.arange(w)-.5)\n",
    "    ax.set_xticklabels([])\n",
    "    ax.set_yticklabels([])\n",
    "    Y, X = np.mgrid[0:4, 0:4]\n",
    "    a2uv = {'left': (-1, 0), 'down': (0, -1), 'right': (1, 0), 'up': (0, 1)}\n",
    "    for y in range(h):\n",
    "        for x in range(w):\n",
    "            plt.text(x, y, str(mdp.desc[y, x].item()),\n",
    "                     color='g', size=12,  verticalalignment='center',\n",
    "                     horizontalalignment='center', fontweight='bold')\n",
    "            a = Pi[y, x]\n",
    "            if a is None:\n",
    "                continue\n",
    "            u, v = a2uv[a]\n",
    "            plt.arrow(x, y, u*.3, -v*.3, color='m',\n",
    "                      head_width=0.1, head_length=0.1)\n",
    "    plt.grid(color='b', lw=2, ls='-')\n",
    "    plt.show()"
   ]
  },
  {
   "cell_type": "code",
   "execution_count": 25,
   "metadata": {},
   "outputs": [
    {
     "name": "stdout",
     "output_type": "stream",
     "text": [
      "after iteration 0\n",
      "iter    0   |   diff: 1.00000   |   V(start): 0.000 \n"
     ]
    },
    {
     "data": {
      "image/png": "[encoded data removed]",
      "text/plain": [
       "<Figure size 216x216 with 1 Axes>"
      ]
     },
     "metadata": {
      "needs_background": "light"
     },
     "output_type": "display_data"
    },
    {
     "name": "stdout",
     "output_type": "stream",
     "text": [
      "after iteration 1\n",
      "iter    0   |   diff: 0.90000   |   V(start): 0.000 \n"
     ]
    },
    {
     "data": {
      "image/png": "[encoded data removed]",
      "text/plain": [
       "<Figure size 216x216 with 1 Axes>"
      ]
     },
     "metadata": {
      "needs_background": "light"
     },
     "output_type": "display_data"
    },
    {
     "name": "stdout",
     "output_type": "stream",
     "text": [
      "after iteration 2\n",
      "iter    0   |   diff: 0.81000   |   V(start): 0.000 \n"
     ]
    },
    {
     "data": {
      "image/png": "[encoded data removed]",
      "text/plain": [
       "<Figure size 216x216 with 1 Axes>"
      ]
     },
     "metadata": {
      "needs_background": "light"
     },
     "output_type": "display_data"
    },
    {
     "name": "stdout",
     "output_type": "stream",
     "text": [
      "after iteration 3\n",
      "iter    0   |   diff: 0.72900   |   V(start): 0.000 \n"
     ]
    },
    {
     "data": {
      "image/png": "[encoded data removed]",
      "text/plain": [
       "<Figure size 216x216 with 1 Axes>"
      ]
     },
     "metadata": {
      "needs_background": "light"
     },
     "output_type": "display_data"
    },
    {
     "name": "stdout",
     "output_type": "stream",
     "text": [
      "after iteration 4\n",
      "iter    0   |   diff: 0.65610   |   V(start): 0.000 \n"
     ]
    },
    {
     "data": {
      "image/png": "[encoded data removed]",
      "text/plain": [
       "<Figure size 216x216 with 1 Axes>"
      ]
     },
     "metadata": {
      "needs_background": "light"
     },
     "output_type": "display_data"
    },
    {
     "name": "stdout",
     "output_type": "stream",
     "text": [
      "after iteration 5\n",
      "iter    0   |   diff: 0.59049   |   V(start): 0.590 \n"
     ]
    },
    {
     "data": {
      "image/png": "[encoded data removed]",
      "text/plain": [
       "<Figure size 216x216 with 1 Axes>"
      ]
     },
     "metadata": {
      "needs_background": "light"
     },
     "output_type": "display_data"
    },
    {
     "name": "stdout",
     "output_type": "stream",
     "text": [
      "after iteration 6\n",
      "iter    0   |   diff: 0.00000   |   V(start): 0.590 \n"
     ]
    },
    {
     "data": {
      "image/png": "[encoded data removed]",
      "text/plain": [
       "<Figure size 216x216 with 1 Axes>"
      ]
     },
     "metadata": {
      "needs_background": "light"
     },
     "output_type": "display_data"
    },
    {
     "name": "stdout",
     "output_type": "stream",
     "text": [
      "after iteration 7\n",
      "iter    0   |   diff: 0.00000   |   V(start): 0.590 \n"
     ]
    },
    {
     "data": {
      "image/png": "[encoded data removed]",
      "text/plain": [
       "<Figure size 216x216 with 1 Axes>"
      ]
     },
     "metadata": {
      "needs_background": "light"
     },
     "output_type": "display_data"
    },
    {
     "name": "stdout",
     "output_type": "stream",
     "text": [
      "after iteration 8\n",
      "iter    0   |   diff: 0.00000   |   V(start): 0.590 \n"
     ]
    },
    {
     "data": {
      "image/png": "[encoded data removed]",
      "text/plain": [
       "<Figure size 216x216 with 1 Axes>"
      ]
     },
     "metadata": {
      "needs_background": "light"
     },
     "output_type": "display_data"
    },
    {
     "name": "stdout",
     "output_type": "stream",
     "text": [
      "after iteration 9\n",
      "iter    0   |   diff: 0.00000   |   V(start): 0.590 \n"
     ]
    },
    {
     "data": {
      "image/png": "[encoded data removed]",
      "text/plain": [
       "<Figure size 216x216 with 1 Axes>"
      ]
     },
     "metadata": {
      "needs_background": "light"
     },
     "output_type": "display_data"
    }
   ],
   "source": [
    "state_values = {s: 0 for s in mdp.get_all_states()}\n",
    "\n",
    "for i in range(10):\n",
    "    print(\"after iteration %i\" % i)\n",
    "    state_values = value_iteration(mdp, state_values, num_iter=1)\n",
    "    draw_policy(mdp, state_values)"
   ]
  },
  {
   "cell_type": "code",
   "execution_count": 26,
   "metadata": {},
   "outputs": [
    {
     "name": "stdout",
     "output_type": "stream",
     "text": [
      "after iteration 29\n",
      "iter    0   |   diff: 0.00000   |   V(start): 0.198 \n"
     ]
    },
    {
     "data": {
      "image/png": "[encoded data removed]",
      "text/plain": [
       "<Figure size 720x720 with 1 Axes>"
      ]
     },
     "metadata": {
      "needs_background": "light"
     },
     "output_type": "display_data"
    }
   ],
   "source": [
    "from IPython.display import clear_output\n",
    "from time import sleep\n",
    "mdp = FrozenLakeEnv(map_name='8x8', slip_chance=0.1)\n",
    "state_values = {s: 0 for s in mdp.get_all_states()}\n",
    "\n",
    "for i in range(30):\n",
    "    clear_output(True)\n",
    "    print(\"after iteration %i\" % i)\n",
    "    state_values = value_iteration(mdp, state_values, num_iter=1)\n",
    "    draw_policy(mdp, state_values, figsize=(10, 10))\n",
    "    sleep(0.5)"
   ]
  },
  {
   "cell_type": "markdown",
   "metadata": {},
   "source": [
    "Massive tests"
   ]
  },
  {
   "cell_type": "code",
   "execution_count": 27,
   "metadata": {},
   "outputs": [
    {
     "name": "stdout",
     "output_type": "stream",
     "text": [
      "iter    0   |   diff: 1.00000   |   V(start): 0.000 \n",
      "iter    1   |   diff: 0.90000   |   V(start): 0.000 \n",
      "iter    2   |   diff: 0.81000   |   V(start): 0.000 \n",
      "iter    3   |   diff: 0.72900   |   V(start): 0.000 \n",
      "iter    4   |   diff: 0.65610   |   V(start): 0.000 \n",
      "iter    5   |   diff: 0.59049   |   V(start): 0.590 \n",
      "iter    6   |   diff: 0.00000   |   V(start): 0.590 \n",
      "average reward:  1.0\n",
      "Well done!\n"
     ]
    }
   ],
   "source": [
    "mdp = FrozenLakeEnv(slip_chance=0)\n",
    "state_values = value_iteration(mdp)\n",
    "\n",
    "total_rewards = []\n",
    "for game_i in range(1000):\n",
    "    s = mdp.reset()\n",
    "    rewards = []\n",
    "    for t in range(100):\n",
    "        s, r, done, _ = mdp.step(\n",
    "            get_optimal_action(mdp, state_values, s, gamma))\n",
    "        rewards.append(r)\n",
    "        if done:\n",
    "            break\n",
    "    total_rewards.append(np.sum(rewards))\n",
    "\n",
    "print(\"average reward: \", np.mean(total_rewards))\n",
    "assert(1.0 <= np.mean(total_rewards) <= 1.0)\n",
    "print(\"Well done!\")"
   ]
  },
  {
   "cell_type": "code",
   "execution_count": 28,
   "metadata": {},
   "outputs": [
    {
     "name": "stdout",
     "output_type": "stream",
     "text": [
      "iter    0   |   diff: 0.90000   |   V(start): 0.000 \n",
      "iter    1   |   diff: 0.72900   |   V(start): 0.000 \n",
      "iter    2   |   diff: 0.62330   |   V(start): 0.000 \n",
      "iter    3   |   diff: 0.50487   |   V(start): 0.000 \n",
      "iter    4   |   diff: 0.40894   |   V(start): 0.000 \n",
      "iter    5   |   diff: 0.34868   |   V(start): 0.349 \n",
      "iter    6   |   diff: 0.06529   |   V(start): 0.410 \n",
      "iter    7   |   diff: 0.05832   |   V(start): 0.468 \n",
      "iter    8   |   diff: 0.01139   |   V(start): 0.480 \n",
      "iter    9   |   diff: 0.00764   |   V(start): 0.487 \n",
      "iter   10   |   diff: 0.00164   |   V(start): 0.489 \n",
      "iter   11   |   diff: 0.00094   |   V(start): 0.490 \n",
      "iter   12   |   diff: 0.00022   |   V(start): 0.490 \n",
      "iter   13   |   diff: 0.00011   |   V(start): 0.490 \n",
      "iter   14   |   diff: 0.00003   |   V(start): 0.490 \n",
      "iter   15   |   diff: 0.00001   |   V(start): 0.490 \n",
      "iter   16   |   diff: 0.00000   |   V(start): 0.490 \n",
      "average reward:  0.887\n",
      "Well done!\n"
     ]
    }
   ],
   "source": [
    "# Measure agent's average reward\n",
    "mdp = FrozenLakeEnv(slip_chance=0.1)\n",
    "state_values = value_iteration(mdp)\n",
    "\n",
    "total_rewards = []\n",
    "for game_i in range(1000):\n",
    "    s = mdp.reset()\n",
    "    rewards = []\n",
    "    for t in range(100):\n",
    "        s, r, done, _ = mdp.step(\n",
    "            get_optimal_action(mdp, state_values, s, gamma))\n",
    "        rewards.append(r)\n",
    "        if done:\n",
    "            break\n",
    "    total_rewards.append(np.sum(rewards))\n",
    "\n",
    "print(\"average reward: \", np.mean(total_rewards))\n",
    "assert(0.8 <= np.mean(total_rewards) <= 0.95)\n",
    "print(\"Well done!\")"
   ]
  },
  {
   "cell_type": "code",
   "execution_count": 29,
   "metadata": {},
   "outputs": [
    {
     "name": "stdout",
     "output_type": "stream",
     "text": [
      "iter    0   |   diff: 0.75000   |   V(start): 0.000 \n",
      "iter    1   |   diff: 0.50625   |   V(start): 0.000 \n",
      "iter    2   |   diff: 0.39867   |   V(start): 0.000 \n",
      "iter    3   |   diff: 0.26910   |   V(start): 0.000 \n",
      "iter    4   |   diff: 0.18164   |   V(start): 0.000 \n",
      "iter    5   |   diff: 0.14013   |   V(start): 0.140 \n",
      "iter    6   |   diff: 0.07028   |   V(start): 0.199 \n",
      "iter    7   |   diff: 0.06030   |   V(start): 0.260 \n",
      "iter    8   |   diff: 0.02594   |   V(start): 0.285 \n",
      "iter    9   |   diff: 0.01918   |   V(start): 0.305 \n",
      "iter   10   |   diff: 0.00858   |   V(start): 0.313 \n",
      "iter   11   |   diff: 0.00560   |   V(start): 0.319 \n",
      "iter   12   |   diff: 0.00260   |   V(start): 0.321 \n",
      "iter   13   |   diff: 0.00159   |   V(start): 0.323 \n",
      "iter   14   |   diff: 0.00076   |   V(start): 0.324 \n",
      "iter   15   |   diff: 0.00045   |   V(start): 0.324 \n",
      "iter   16   |   diff: 0.00022   |   V(start): 0.324 \n",
      "iter   17   |   diff: 0.00012   |   V(start): 0.325 \n",
      "iter   18   |   diff: 0.00006   |   V(start): 0.325 \n",
      "iter   19   |   diff: 0.00003   |   V(start): 0.325 \n",
      "iter   20   |   diff: 0.00002   |   V(start): 0.325 \n",
      "iter   21   |   diff: 0.00001   |   V(start): 0.325 \n",
      "average reward:  0.657\n",
      "Well done!\n"
     ]
    }
   ],
   "source": [
    "# Measure agent's average reward\n",
    "mdp = FrozenLakeEnv(slip_chance=0.25)\n",
    "state_values = value_iteration(mdp)\n",
    "\n",
    "total_rewards = []\n",
    "for game_i in range(1000):\n",
    "    s = mdp.reset()\n",
    "    rewards = []\n",
    "    for t in range(100):\n",
    "        s, r, done, _ = mdp.step(\n",
    "            get_optimal_action(mdp, state_values, s, gamma))\n",
    "        rewards.append(r)\n",
    "        if done:\n",
    "            break\n",
    "    total_rewards.append(np.sum(rewards))\n",
    "\n",
    "print(\"average reward: \", np.mean(total_rewards))\n",
    "assert(0.6 <= np.mean(total_rewards) <= 0.7)\n",
    "print(\"Well done!\")"
   ]
  },
  {
   "cell_type": "code",
   "execution_count": 30,
   "metadata": {},
   "outputs": [
    {
     "name": "stdout",
     "output_type": "stream",
     "text": [
      "iter    0   |   diff: 0.80000   |   V(start): 0.000 \n",
      "iter    1   |   diff: 0.57600   |   V(start): 0.000 \n",
      "iter    2   |   diff: 0.41472   |   V(start): 0.000 \n",
      "iter    3   |   diff: 0.29860   |   V(start): 0.000 \n",
      "iter    4   |   diff: 0.24186   |   V(start): 0.000 \n",
      "iter    5   |   diff: 0.19349   |   V(start): 0.000 \n",
      "iter    6   |   diff: 0.15325   |   V(start): 0.000 \n",
      "iter    7   |   diff: 0.12288   |   V(start): 0.000 \n",
      "iter    8   |   diff: 0.09930   |   V(start): 0.000 \n",
      "iter    9   |   diff: 0.08037   |   V(start): 0.000 \n",
      "iter   10   |   diff: 0.06426   |   V(start): 0.000 \n",
      "iter   11   |   diff: 0.05129   |   V(start): 0.000 \n",
      "iter   12   |   diff: 0.04330   |   V(start): 0.000 \n",
      "iter   13   |   diff: 0.03802   |   V(start): 0.033 \n",
      "iter   14   |   diff: 0.03332   |   V(start): 0.058 \n",
      "iter   15   |   diff: 0.02910   |   V(start): 0.087 \n",
      "iter   16   |   diff: 0.01855   |   V(start): 0.106 \n",
      "iter   17   |   diff: 0.01403   |   V(start): 0.120 \n",
      "iter   18   |   diff: 0.00810   |   V(start): 0.128 \n",
      "iter   19   |   diff: 0.00555   |   V(start): 0.133 \n",
      "iter   20   |   diff: 0.00321   |   V(start): 0.137 \n",
      "iter   21   |   diff: 0.00247   |   V(start): 0.138 \n",
      "iter   22   |   diff: 0.00147   |   V(start): 0.139 \n",
      "iter   23   |   diff: 0.00104   |   V(start): 0.140 \n",
      "iter   24   |   diff: 0.00058   |   V(start): 0.140 \n",
      "iter   25   |   diff: 0.00036   |   V(start): 0.141 \n",
      "iter   26   |   diff: 0.00024   |   V(start): 0.141 \n",
      "iter   27   |   diff: 0.00018   |   V(start): 0.141 \n",
      "iter   28   |   diff: 0.00012   |   V(start): 0.141 \n",
      "iter   29   |   diff: 0.00007   |   V(start): 0.141 \n",
      "iter   30   |   diff: 0.00004   |   V(start): 0.141 \n",
      "iter   31   |   diff: 0.00003   |   V(start): 0.141 \n",
      "iter   32   |   diff: 0.00001   |   V(start): 0.141 \n",
      "iter   33   |   diff: 0.00001   |   V(start): 0.141 \n",
      "average reward:  0.744\n",
      "Well done!\n"
     ]
    }
   ],
   "source": [
    "# Measure agent's average reward\n",
    "mdp = FrozenLakeEnv(slip_chance=0.2, map_name='8x8')\n",
    "state_values = value_iteration(mdp)\n",
    "\n",
    "total_rewards = []\n",
    "for game_i in range(1000):\n",
    "    s = mdp.reset()\n",
    "    rewards = []\n",
    "    for t in range(100):\n",
    "        s, r, done, _ = mdp.step(\n",
    "            get_optimal_action(mdp, state_values, s, gamma))\n",
    "        rewards.append(r)\n",
    "        if done:\n",
    "            break\n",
    "    total_rewards.append(np.sum(rewards))\n",
    "\n",
    "print(\"average reward: \", np.mean(total_rewards))\n",
    "assert(0.6 <= np.mean(total_rewards) <= 0.8)\n",
    "print(\"Well done!\")"
   ]
  },
  {
   "cell_type": "markdown",
   "metadata": {},
   "source": [
    "# Value iteration convergence\n",
    "\n",
    "### Find an MDP for which value iteration takes long to converge\n",
    "\n",
    "When we ran value iteration on the small frozen lake problem, the last iteration where an action changed was iteration 6, i.e., value iteration computed the optimal policy at iteration 6. Are there any guarantees regarding how many iterations it'll take value iteration to compute the optimal policy? There are no such guarantees without additional assumptions--we can construct the MDP in such a way that the greedy policy will change after arbitrarily many iterations.\n",
    "\n",
    "Your task: define an MDP with at most 3 states and 2 actions, such that when you run value iteration, the optimal action changes at iteration >= 50. Use discount=0.95. (However, note that the discount doesn't matter here--you can construct an appropriate MDP with any discount.)\n",
    "\n",
    "Note: policy must change at least once after iteration >=50, not necessarily change on every iteration till >=50."
   ]
  },
  {
   "cell_type": "code",
   "execution_count": 26,
   "metadata": {},
   "outputs": [],
   "source": [
    "# transition_probs = {\n",
    "#     <YOUR CODE>\n",
    "# }\n",
    "# rewards = {\n",
    "#     <YOUR CODE>\n",
    "# }\n",
    "\n",
    "transition_probs = {\n",
    "    's0': {\n",
    "        'a0': {'s0': 1./3., 's1': 1./3., 's2': 1./3.},\n",
    "        'a1': {'s0': 1./3., 's1': 1./3., 's2': 1./3.}\n",
    "    },\n",
    "    's1': {\n",
    "        'a0': {'s0': 1./3., 's1': 1./3., 's2':1./3.},\n",
    "        'a1': {'s0': 1./3., 's1': 1./3., 's2':1./3.}   \n",
    "    },\n",
    "    's2': {\n",
    "        'a0': {'s0': 1./3., 's1': 1./3., 's2': 1./3.},\n",
    "        'a1': {'s0': 1./3., 's1': 1./3., 's2': 1./3.}  \n",
    "    }\n",
    "}\n",
    "const_1 = 3\n",
    "const_2 = 0.9\n",
    "rewards = {\n",
    "    's0': {'a0': {'s0': const_1,'s1':const_2,'s2':const_2},\n",
    "           'a1': {'s0': const_2,'s1':const_1,'s2':const_2},\n",
    "          },\n",
    "    's1': {'a0': {'s0': const_2,'s1':const_2,'s2':const_1},\n",
    "           'a1': {'s0': const_2,'s1':const_1,'s2':const_2},\n",
    "          },\n",
    "    's2': {'a0': {'s0': const_1,'s1':const_2,'s2':const_2},\n",
    "           'a1': {'s0': const_2,'s1':const_1,'s2':const_2},\n",
    "          }\n",
    "}\n",
    "\n",
    "from mdp import MDP\n",
    "from numpy import random\n",
    "\n",
    "# Feel free to change the initial_state\n",
    "mdp = MDP(transition_probs, rewards, initial_state=random.choice(tuple(transition_probs.keys())))"
   ]
  },
  {
   "cell_type": "code",
   "execution_count": 27,
   "metadata": {},
   "outputs": [
    {
     "data": {
      "text/plain": [
       "{'s0': {'a0': {'s0': 3, 's1': 0.9, 's2': 0.9},\n",
       "  'a1': {'s0': 0.9, 's1': 3, 's2': 0.9}},\n",
       " 's1': {'a0': {'s0': 0.9, 's1': 0.9, 's2': 3},\n",
       "  'a1': {'s0': 0.9, 's1': 3, 's2': 0.9}},\n",
       " 's2': {'a0': {'s0': 3, 's1': 0.9, 's2': 0.9},\n",
       "  'a1': {'s0': 0.9, 's1': 3, 's2': 0.9}}}"
      ]
     },
     "execution_count": 27,
     "metadata": {},
     "output_type": "execute_result"
    }
   ],
   "source": [
    "rewards"
   ]
  },
  {
   "cell_type": "code",
   "execution_count": 28,
   "metadata": {},
   "outputs": [
    {
     "name": "stdout",
     "output_type": "stream",
     "text": [
      "after iteration 0\n",
      "iter    0   |   diff: 1.60000   |   V(start): 1.600 \n",
      "N actions changed = 0 \n",
      "\n",
      "after iteration 1\n",
      "iter    0   |   diff: 1.52000   |   V(start): 3.120 \n",
      "N actions changed = 0 \n",
      "\n",
      "after iteration 2\n",
      "iter    0   |   diff: 1.44400   |   V(start): 4.564 \n",
      "N actions changed = 1 \n",
      "\n",
      "after iteration 3\n",
      "iter    0   |   diff: 1.37180   |   V(start): 5.936 \n",
      "N actions changed = 1 \n",
      "\n",
      "after iteration 4\n",
      "iter    0   |   diff: 1.30321   |   V(start): 7.239 \n",
      "N actions changed = 0 \n",
      "\n",
      "after iteration 5\n",
      "iter    0   |   diff: 1.23805   |   V(start): 8.477 \n",
      "N actions changed = 0 \n",
      "\n",
      "after iteration 6\n",
      "iter    0   |   diff: 1.17615   |   V(start): 9.653 \n",
      "N actions changed = 0 \n",
      "\n",
      "after iteration 7\n",
      "iter    0   |   diff: 1.11734   |   V(start): 10.771 \n",
      "N actions changed = 0 \n",
      "\n",
      "after iteration 8\n",
      "iter    0   |   diff: 1.06147   |   V(start): 11.832 \n",
      "N actions changed = 0 \n",
      "\n",
      "after iteration 9\n",
      "iter    0   |   diff: 1.00840   |   V(start): 12.840 \n",
      "N actions changed = 0 \n",
      "\n",
      "after iteration 10\n",
      "iter    0   |   diff: 0.95798   |   V(start): 13.798 \n",
      "N actions changed = 0 \n",
      "\n",
      "after iteration 11\n",
      "iter    0   |   diff: 0.91008   |   V(start): 14.708 \n",
      "N actions changed = 0 \n",
      "\n",
      "after iteration 12\n",
      "iter    0   |   diff: 0.86458   |   V(start): 15.573 \n",
      "N actions changed = 0 \n",
      "\n",
      "after iteration 13\n",
      "iter    0   |   diff: 0.82135   |   V(start): 16.394 \n",
      "N actions changed = 0 \n",
      "\n",
      "after iteration 14\n",
      "iter    0   |   diff: 0.78028   |   V(start): 17.175 \n",
      "N actions changed = 0 \n",
      "\n",
      "after iteration 15\n",
      "iter    0   |   diff: 0.74127   |   V(start): 17.916 \n",
      "N actions changed = 0 \n",
      "\n",
      "after iteration 16\n",
      "iter    0   |   diff: 0.70420   |   V(start): 18.620 \n",
      "N actions changed = 0 \n",
      "\n",
      "after iteration 17\n",
      "iter    0   |   diff: 0.66899   |   V(start): 19.289 \n",
      "N actions changed = 0 \n",
      "\n",
      "after iteration 18\n",
      "iter    0   |   diff: 0.63554   |   V(start): 19.925 \n",
      "N actions changed = 0 \n",
      "\n",
      "after iteration 19\n",
      "iter    0   |   diff: 0.60377   |   V(start): 20.528 \n",
      "N actions changed = 0 \n",
      "\n",
      "after iteration 20\n",
      "iter    0   |   diff: 0.57358   |   V(start): 21.102 \n",
      "N actions changed = 0 \n",
      "\n",
      "after iteration 21\n",
      "iter    0   |   diff: 0.54490   |   V(start): 21.647 \n",
      "N actions changed = 0 \n",
      "\n",
      "after iteration 22\n",
      "iter    0   |   diff: 0.51765   |   V(start): 22.165 \n",
      "N actions changed = 0 \n",
      "\n",
      "after iteration 23\n",
      "iter    0   |   diff: 0.49177   |   V(start): 22.656 \n",
      "N actions changed = 0 \n",
      "\n",
      "after iteration 24\n",
      "iter    0   |   diff: 0.46718   |   V(start): 23.124 \n",
      "N actions changed = 0 \n",
      "\n",
      "after iteration 25\n",
      "iter    0   |   diff: 0.44382   |   V(start): 23.567 \n",
      "N actions changed = 1 \n",
      "\n",
      "after iteration 26\n",
      "iter    0   |   diff: 0.42163   |   V(start): 23.989 \n",
      "N actions changed = 1 \n",
      "\n",
      "after iteration 27\n",
      "iter    0   |   diff: 0.40055   |   V(start): 24.390 \n",
      "N actions changed = 0 \n",
      "\n",
      "after iteration 28\n",
      "iter    0   |   diff: 0.38052   |   V(start): 24.770 \n",
      "N actions changed = 1 \n",
      "\n",
      "after iteration 29\n",
      "iter    0   |   diff: 0.36150   |   V(start): 25.132 \n",
      "N actions changed = 1 \n",
      "\n",
      "after iteration 30\n",
      "iter    0   |   diff: 0.34342   |   V(start): 25.475 \n",
      "N actions changed = 0 \n",
      "\n",
      "after iteration 31\n",
      "iter    0   |   diff: 0.32625   |   V(start): 25.801 \n",
      "N actions changed = 0 \n",
      "\n",
      "after iteration 32\n",
      "iter    0   |   diff: 0.30994   |   V(start): 26.111 \n",
      "N actions changed = 1 \n",
      "\n",
      "after iteration 33\n",
      "iter    0   |   diff: 0.29444   |   V(start): 26.406 \n",
      "N actions changed = 1 \n",
      "\n",
      "after iteration 34\n",
      "iter    0   |   diff: 0.27972   |   V(start): 26.685 \n",
      "N actions changed = 0 \n",
      "\n",
      "after iteration 35\n",
      "iter    0   |   diff: 0.26573   |   V(start): 26.951 \n",
      "N actions changed = 0 \n",
      "\n",
      "after iteration 36\n",
      "iter    0   |   diff: 0.25245   |   V(start): 27.204 \n",
      "N actions changed = 0 \n",
      "\n",
      "after iteration 37\n",
      "iter    0   |   diff: 0.23982   |   V(start): 27.443 \n",
      "N actions changed = 0 \n",
      "\n",
      "after iteration 38\n",
      "iter    0   |   diff: 0.22783   |   V(start): 27.671 \n",
      "N actions changed = 0 \n",
      "\n",
      "after iteration 39\n",
      "iter    0   |   diff: 0.21644   |   V(start): 27.888 \n",
      "N actions changed = 0 \n",
      "\n",
      "after iteration 40\n",
      "iter    0   |   diff: 0.20562   |   V(start): 28.093 \n",
      "N actions changed = 0 \n",
      "\n",
      "after iteration 41\n",
      "iter    0   |   diff: 0.19534   |   V(start): 28.289 \n",
      "N actions changed = 0 \n",
      "\n",
      "after iteration 42\n",
      "iter    0   |   diff: 0.18557   |   V(start): 28.474 \n",
      "N actions changed = 0 \n",
      "\n",
      "after iteration 43\n",
      "iter    0   |   diff: 0.17629   |   V(start): 28.650 \n",
      "N actions changed = 0 \n",
      "\n",
      "after iteration 44\n",
      "iter    0   |   diff: 0.16748   |   V(start): 28.818 \n",
      "N actions changed = 0 \n",
      "\n",
      "after iteration 45\n",
      "iter    0   |   diff: 0.15910   |   V(start): 28.977 \n",
      "N actions changed = 1 \n",
      "\n",
      "after iteration 46\n",
      "iter    0   |   diff: 0.15115   |   V(start): 29.128 \n",
      "N actions changed = 2 \n",
      "\n",
      "after iteration 47\n",
      "iter    0   |   diff: 0.14359   |   V(start): 29.272 \n",
      "N actions changed = 3 \n",
      "\n",
      "after iteration 48\n",
      "iter    0   |   diff: 0.13641   |   V(start): 29.408 \n",
      "N actions changed = 0 \n",
      "\n",
      "after iteration 49\n",
      "iter    0   |   diff: 0.12959   |   V(start): 29.538 \n",
      "N actions changed = 0 \n",
      "\n",
      "after iteration 50\n",
      "iter    0   |   diff: 0.12311   |   V(start): 29.661 \n",
      "N actions changed = 1 \n",
      "\n",
      "after iteration 51\n",
      "iter    0   |   diff: 0.11696   |   V(start): 29.778 \n",
      "N actions changed = 1 \n",
      "\n",
      "after iteration 52\n",
      "iter    0   |   diff: 0.11111   |   V(start): 29.889 \n",
      "N actions changed = 0 \n",
      "\n",
      "after iteration 53\n",
      "iter    0   |   diff: 0.10555   |   V(start): 29.994 \n",
      "N actions changed = 0 \n",
      "\n",
      "after iteration 54\n",
      "iter    0   |   diff: 0.10028   |   V(start): 30.095 \n",
      "N actions changed = 0 \n",
      "\n",
      "after iteration 55\n",
      "iter    0   |   diff: 0.09526   |   V(start): 30.190 \n",
      "N actions changed = 0 \n",
      "\n",
      "after iteration 56\n",
      "iter    0   |   diff: 0.09050   |   V(start): 30.281 \n",
      "N actions changed = 0 \n",
      "\n",
      "after iteration 57\n",
      "iter    0   |   diff: 0.08597   |   V(start): 30.367 \n",
      "N actions changed = 1 \n",
      "\n",
      "after iteration 58\n",
      "iter    0   |   diff: 0.08167   |   V(start): 30.448 \n",
      "N actions changed = 1 \n",
      "\n",
      "after iteration 59\n",
      "iter    0   |   diff: 0.07759   |   V(start): 30.526 \n",
      "N actions changed = 0 \n",
      "\n",
      "after iteration 60\n",
      "iter    0   |   diff: 0.07371   |   V(start): 30.599 \n",
      "N actions changed = 0 \n",
      "\n",
      "after iteration 61\n",
      "iter    0   |   diff: 0.07003   |   V(start): 30.670 \n",
      "N actions changed = 0 \n",
      "\n",
      "after iteration 62\n",
      "iter    0   |   diff: 0.06652   |   V(start): 30.736 \n",
      "N actions changed = 0 \n",
      "\n",
      "after iteration 63\n",
      "iter    0   |   diff: 0.06320   |   V(start): 30.799 \n",
      "N actions changed = 0 \n",
      "\n",
      "after iteration 64\n",
      "iter    0   |   diff: 0.06004   |   V(start): 30.859 \n",
      "N actions changed = 0 \n",
      "\n",
      "after iteration 65\n",
      "iter    0   |   diff: 0.05704   |   V(start): 30.916 \n",
      "N actions changed = 0 \n",
      "\n",
      "after iteration 66\n",
      "iter    0   |   diff: 0.05418   |   V(start): 30.970 \n",
      "N actions changed = 0 \n",
      "\n",
      "after iteration 67\n",
      "iter    0   |   diff: 0.05148   |   V(start): 31.022 \n",
      "N actions changed = 0 \n",
      "\n",
      "after iteration 68\n",
      "iter    0   |   diff: 0.04890   |   V(start): 31.071 \n",
      "N actions changed = 1 \n",
      "\n",
      "after iteration 69\n",
      "iter    0   |   diff: 0.04646   |   V(start): 31.117 \n",
      "N actions changed = 1 \n",
      "\n",
      "after iteration 70\n",
      "iter    0   |   diff: 0.04413   |   V(start): 31.161 \n",
      "N actions changed = 0 \n",
      "\n",
      "after iteration 71\n",
      "iter    0   |   diff: 0.04193   |   V(start): 31.203 \n",
      "N actions changed = 1 \n",
      "\n",
      "after iteration 72\n",
      "iter    0   |   diff: 0.03983   |   V(start): 31.243 \n",
      "N actions changed = 1 \n",
      "\n",
      "after iteration 73\n",
      "iter    0   |   diff: 0.03784   |   V(start): 31.281 \n",
      "N actions changed = 0 \n",
      "\n",
      "after iteration 74\n",
      "iter    0   |   diff: 0.03595   |   V(start): 31.317 \n",
      "N actions changed = 0 \n",
      "\n",
      "after iteration 75\n",
      "iter    0   |   diff: 0.03415   |   V(start): 31.351 \n",
      "N actions changed = 0 \n",
      "\n",
      "after iteration 76\n",
      "iter    0   |   diff: 0.03244   |   V(start): 31.384 \n",
      "N actions changed = 1 \n",
      "\n",
      "after iteration 77\n",
      "iter    0   |   diff: 0.03082   |   V(start): 31.414 \n",
      "N actions changed = 2 \n",
      "\n",
      "after iteration 78\n",
      "iter    0   |   diff: 0.02928   |   V(start): 31.444 \n",
      "N actions changed = 3 \n",
      "\n",
      "after iteration 79\n",
      "iter    0   |   diff: 0.02782   |   V(start): 31.472 \n",
      "N actions changed = 1 \n",
      "\n",
      "after iteration 80\n",
      "iter    0   |   diff: 0.02642   |   V(start): 31.498 \n",
      "N actions changed = 1 \n",
      "\n",
      "after iteration 81\n",
      "iter    0   |   diff: 0.02510   |   V(start): 31.523 \n",
      "N actions changed = 0 \n",
      "\n",
      "after iteration 82\n",
      "iter    0   |   diff: 0.02385   |   V(start): 31.547 \n",
      "N actions changed = 0 \n",
      "\n",
      "after iteration 83\n",
      "iter    0   |   diff: 0.02266   |   V(start): 31.570 \n",
      "N actions changed = 0 \n",
      "\n",
      "after iteration 84\n",
      "iter    0   |   diff: 0.02152   |   V(start): 31.591 \n",
      "N actions changed = 0 \n",
      "\n",
      "after iteration 85\n",
      "iter    0   |   diff: 0.02045   |   V(start): 31.612 \n",
      "N actions changed = 0 \n",
      "\n",
      "after iteration 86\n",
      "iter    0   |   diff: 0.01942   |   V(start): 31.631 \n",
      "N actions changed = 0 \n",
      "\n",
      "after iteration 87\n",
      "iter    0   |   diff: 0.01845   |   V(start): 31.649 \n",
      "N actions changed = 1 \n",
      "\n",
      "after iteration 88\n",
      "iter    0   |   diff: 0.01753   |   V(start): 31.667 \n",
      "N actions changed = 1 \n",
      "\n",
      "after iteration 89\n",
      "iter    0   |   diff: 0.01665   |   V(start): 31.684 \n",
      "N actions changed = 0 \n",
      "\n",
      "after iteration 90\n",
      "iter    0   |   diff: 0.01582   |   V(start): 31.699 \n",
      "N actions changed = 1 \n",
      "\n",
      "after iteration 91\n",
      "iter    0   |   diff: 0.01503   |   V(start): 31.714 \n",
      "N actions changed = 2 \n",
      "\n",
      "after iteration 92\n",
      "iter    0   |   diff: 0.01428   |   V(start): 31.729 \n",
      "N actions changed = 3 \n",
      "\n",
      "after iteration 93\n",
      "iter    0   |   diff: 0.01356   |   V(start): 31.742 \n",
      "N actions changed = 0 \n",
      "\n",
      "after iteration 94\n",
      "iter    0   |   diff: 0.01289   |   V(start): 31.755 \n",
      "N actions changed = 1 \n",
      "\n",
      "after iteration 95\n",
      "iter    0   |   diff: 0.01224   |   V(start): 31.767 \n",
      "N actions changed = 1 \n",
      "\n",
      "after iteration 96\n",
      "iter    0   |   diff: 0.01163   |   V(start): 31.779 \n",
      "N actions changed = 0 \n",
      "\n",
      "after iteration 97\n",
      "iter    0   |   diff: 0.01105   |   V(start): 31.790 \n",
      "N actions changed = 0 \n",
      "\n",
      "after iteration 98\n",
      "iter    0   |   diff: 0.01050   |   V(start): 31.801 \n",
      "N actions changed = 0 \n",
      "\n",
      "after iteration 99\n",
      "iter    0   |   diff: 0.00997   |   V(start): 31.811 \n",
      "N actions changed = 0 \n",
      "\n"
     ]
    }
   ],
   "source": [
    "gamma = 0.95\n",
    "state_values = {s: 0 for s in mdp.get_all_states()}\n",
    "policy = np.array([get_optimal_action(mdp, state_values, state, gamma)\n",
    "                   for state in sorted(mdp.get_all_states())])\n",
    "\n",
    "for i in range(100):\n",
    "    print(\"after iteration %i\" % i)\n",
    "    state_values = value_iteration(mdp, state_values, gamma=gamma, num_iter=1)\n",
    "\n",
    "    new_policy = np.array([get_optimal_action(mdp, state_values, state, gamma)\n",
    "                           for state in sorted(mdp.get_all_states())])\n",
    "\n",
    "    n_changes = (policy != new_policy).sum()\n",
    "    print(\"N actions changed = %i \\n\" % n_changes)\n",
    "    policy = new_policy"
   ]
  },
  {
   "cell_type": "markdown",
   "metadata": {},
   "source": [
    "### Value iteration convervence proof\n",
    "**Note:** Assume that $\\mathcal{S}, \\mathcal{A}$ are finite.\n",
    "\n",
    "Update of value function in value iteration can be rewritten in a form of Bellman operator:\n",
    "\n",
    "$$(TV)(s) = \\max_{a \\in \\mathcal{A}}\\mathbb{E}\\left[ r_{t+1} + \\gamma V(s_{t+1}) | s_t = s, a_t = a\\right]$$\n",
    "\n",
    "Value iteration algorithm with Bellman operator:\n",
    "\n",
    "---\n",
    "&nbsp;&nbsp; Initialize $V_0$\n",
    "\n",
    "&nbsp;&nbsp; **for** $k = 0,1,2,...$ **do**\n",
    "\n",
    "&nbsp;&nbsp;&nbsp;&nbsp; $V_{k+1} \\leftarrow TV_k$\n",
    "\n",
    "&nbsp;&nbsp;**end for**\n",
    "\n",
    "---\n",
    "\n",
    "In [lecture](https://docs.google.com/presentation/d/1lz2oIUTvd2MHWKEQSH8hquS66oe4MZ_eRvVViZs2uuE/edit#slide=id.g4fd6bae29e_2_4) we established contraction property of bellman operator:\n",
    "\n",
    "$$\n",
    "||TV - TU||_{\\infty} \\le \\gamma ||V - U||_{\\infty}\n",
    "$$\n",
    "\n",
    "For all $V, U$\n",
    "\n",
    "Using contraction property of Bellman operator, Banach fixed-point theorem and Bellman equations prove that value function converges to $V^*$ in value iteration"
   ]
  },
  {
   "cell_type": "markdown",
   "metadata": {},
   "source": [
    "*<-- Your proof here -->*\n",
    "$$(TV)(s) = \\max_{a \\in \\mathcal{A}}\\mathbb{E}\\left[ r_{t+1} + \\gamma V(s_{t+1}) | s_t = s, a_t = a\\right]$$"
   ]
  },
  {
   "cell_type": "markdown",
   "metadata": {},
   "source": [
    "# Policy iteration\n",
    "\n",
    "## Policy iteration implementateion\n",
    "\n",
    "Let's implement exact policy iteration (PI), which has the following pseudocode:\n",
    "\n",
    "---\n",
    "Initialize $\\pi_0$   `// random or fixed action`\n",
    "\n",
    "For $n=0, 1, 2, \\dots$\n",
    "- Compute the state-value function $V^{\\pi_{n}}$\n",
    "- Using $V^{\\pi_{n}}$, compute the state-action-value function $Q^{\\pi_{n}}$\n",
    "- Compute new policy $\\pi_{n+1}(s) = \\operatorname*{argmax}_a Q^{\\pi_{n}}(s,a)$\n",
    "---\n",
    "\n",
    "Unlike VI, policy iteration has to maintain a policy - chosen actions from all states - and estimate $V^{\\pi_{n}}$ based on this policy. It only changes policy once values converged.\n",
    "\n",
    "\n",
    "Below are a few helpers that you may or may not use in your implementation."
   ]
  },
  {
   "cell_type": "code",
   "execution_count": 37,
   "metadata": {},
   "outputs": [],
   "source": [
    "transition_probs = {\n",
    "    's0': {\n",
    "        'a0': {'s0': 0.5, 's2': 0.5},\n",
    "        'a1': {'s2': 1}\n",
    "    },\n",
    "    's1': {\n",
    "        'a0': {'s0': 0.7, 's1': 0.1, 's2': 0.2},\n",
    "        'a1': {'s1': 0.95, 's2': 0.05}\n",
    "    },\n",
    "    's2': {\n",
    "        'a0': {'s0': 0.4, 's1': 0.6},\n",
    "        'a1': {'s0': 0.3, 's1': 0.3, 's2': 0.4}\n",
    "    }\n",
    "}\n",
    "rewards = {\n",
    "    's1': {'a0': {'s0': +5}},\n",
    "    's2': {'a1': {'s0': -1}}\n",
    "}\n",
    "\n",
    "from mdp import MDP\n",
    "mdp = MDP(transition_probs, rewards, initial_state='s0')"
   ]
  },
  {
   "cell_type": "markdown",
   "metadata": {},
   "source": [
    "Let's write a function called `compute_vpi` that computes the state-value function $V^{\\pi}$ for an arbitrary policy $\\pi$.\n",
    "\n",
    "Unlike VI, this time you must find the exact solution, not just a single iteration.\n",
    "\n",
    "Recall that $V^{\\pi}$ satisfies the following linear equation:\n",
    "$$V^{\\pi}(s) = \\sum_{s'} P(s,\\pi(s),s')[ R(s,\\pi(s),s') + \\gamma V^{\\pi}(s')]$$\n",
    "\n",
    "You'll have to solve a linear system in your code. (Find an exact solution, e.g., with `np.linalg.solve`.)"
   ]
  },
  {
   "cell_type": "code",
   "execution_count": 38,
   "metadata": {},
   "outputs": [],
   "source": [
    "# def compute_vpi(mdp, policy, gamma):\n",
    "#     \"\"\"\n",
    "#     Computes V^pi(s) FOR ALL STATES under given policy.\n",
    "#     :param policy: a dict of currently chosen actions {s : a}\n",
    "#     :returns: a dict {state : V^pi(state) for all states}\n",
    "#     \"\"\"\n",
    "#     # <YOUR CODE>\n",
    "#     # return <YOUR CODE>\n",
    "    \n",
    "#     all_states = [s for i, s in enumerate(mdp.get_all_states())]\n",
    "#     len_all_states = len(mdp.get_all_states())\n",
    "#     # для системы Ах=в \n",
    "#     a_matrix, b_vector = np.zeros((len_all_states, len_all_states)), np.zeros(len_all_states)\n",
    "    \n",
    "#     s_index = {s: i for i, s in enumerate(mdp.get_all_states())}\n",
    "   \n",
    "#     for itr in range(len_all_states):\n",
    "#         b_val = 0\n",
    "#         state = all_states[itr]\n",
    "        \n",
    "#         if len(mdp.get_possible_actions(state)) == 0:\n",
    "#             b_vector[0] = 0\n",
    "#             a_matrix[itr][itr] = 1\n",
    "\n",
    "#         a_matrix[itr][itr] = 1 -  mdp.get_transition_prob(state, policy[state], state) * gamma\n",
    "        \n",
    "#         for prime in mdp.get_next_states(state, policy[state]):\n",
    "#             if prime == state:\n",
    "#                 continue\n",
    "#             transition_prob = mdp.get_transition_prob(state, policy[state], prime)\n",
    "#             a_matrix[itr][s_index[prime]] = - transition_prob * gamma\n",
    "#             b_val += transition_prob * mdp.get_reward(state, policy[state], prime)\n",
    "        \n",
    "#         b_vector[itr] = b_val\n",
    "\n",
    "        \n",
    "#     solution = np.linalg.solve(a_matrix, b_vector)\n",
    "#     dict_state_v_pi = {all_states[i]: v_pi for i, v_pi in enumerate(solution)}\n",
    "#     return dict_state_v_pi\n",
    "    "
   ]
  },
  {
   "cell_type": "code",
   "execution_count": 42,
   "metadata": {},
   "outputs": [],
   "source": [
    "def compute_vpi(mdp, policy, gamma):\n",
    "    \"\"\"\n",
    "     Computes V^pi(s) FOR ALL STATES under given policy.\n",
    "     :param policy: a dict of currently chosen actions {s : a}\n",
    "     :returns: a dict {state : V^pi(state) for all states}\n",
    "     \"\"\"\n",
    "    \n",
    "    states = list(mdp.get_all_states())\n",
    "    len_all_states = len(mdp.get_all_states())\n",
    "    # для системы Ах=в \n",
    "    a_matrix, b_vector = np.eye(len_all_states), np.zeros(len_all_states)\n",
    "    \n",
    "    for s in mdp.get_all_states():\n",
    "        if not mdp.is_terminal(s):\n",
    "            for prime in mdp.get_next_states(s, policy[s]):\n",
    "                transition_prob = mdp.get_transition_prob(s, policy[s], prime) \n",
    "                \n",
    "                i = states.index(s)\n",
    "                j = states.index(prime)\n",
    "                \n",
    "                a_matrix[i, j] -= gamma * transition_prob\n",
    "                b_vector[i] += mdp.get_reward(s, policy[s], prime) * transition_prob\n",
    "    \n",
    "    \n",
    "    solution = np.linalg.solve(a_matrix, b_vector)\n",
    "    dict_state_v_pi = {states[i]: solution[i] for i in range(len_all_states)}\n",
    "    \n",
    "    return dict_state_v_pi       \n",
    "            "
   ]
  },
  {
   "cell_type": "code",
   "execution_count": 43,
   "metadata": {},
   "outputs": [
    {
     "name": "stdout",
     "output_type": "stream",
     "text": [
      "{'s0': 'a0', 's1': 'a0', 's2': 'a0'}\n",
      "{'s0': 5.804272162697056, 's1': 9.26772674537637, 's2': 7.094110421074179}\n"
     ]
    }
   ],
   "source": [
    "test_policy = {s: np.random.choice(mdp.get_possible_actions(s)) for s in mdp.get_all_states()}\n",
    "new_vpi = compute_vpi(mdp, test_policy, gamma)\n",
    "\n",
    "print(test_policy)\n",
    "print(new_vpi)\n",
    "\n",
    "assert type(\n",
    "    new_vpi) is dict, \"compute_vpi must return a dict {state : V^pi(state) for all states}\""
   ]
  },
  {
   "cell_type": "code",
   "execution_count": 44,
   "metadata": {},
   "outputs": [
    {
     "data": {
      "text/plain": [
       "{'s0': 'a0', 's1': 'a0', 's2': 'a1'}"
      ]
     },
     "execution_count": 44,
     "metadata": {},
     "output_type": "execute_result"
    }
   ],
   "source": [
    "{s: np.random.choice(\n",
    "    mdp.get_possible_actions(s)) for s in mdp.get_all_states()}"
   ]
  },
  {
   "cell_type": "markdown",
   "metadata": {},
   "source": [
    "Once we've got new state values, it's time to update our policy."
   ]
  },
  {
   "cell_type": "code",
   "execution_count": 45,
   "metadata": {},
   "outputs": [],
   "source": [
    "def compute_new_policy(mdp, vpi, gamma):\n",
    "    \"\"\"\n",
    "    Computes new policy as argmax of state values\n",
    "    :param vpi: a dict {state : V^pi(state) for all states}\n",
    "    :returns: a dict {state : optimal action for all states}\n",
    "    \"\"\"\n",
    "    Q = 0\n",
    "    new_policy = {}\n",
    "    \n",
    "    for state in mdp.get_all_states():\n",
    "        max_q = -1e20\n",
    "        if len(mdp.get_possible_actions(state)) == 0:\n",
    "            Q = 0\n",
    "            best_action = None\n",
    "        else:\n",
    "            for action in mdp.get_possible_actions(state):\n",
    "                Q = 0\n",
    "                for next_state in mdp.get_next_states(state, action):\n",
    "                    q += mdp.get_transition_prob(state, action, next_state) * gamma\n",
    "                if Q > max_q:\n",
    "                    max_q = Q\n",
    "                    best_action = action\n",
    "                    \n",
    "        new_policy[state] = best_action\n",
    "    \n",
    "    return new_policy"
   ]
  },
  {
   "cell_type": "code",
   "execution_count": 46,
   "metadata": {},
   "outputs": [
    {
     "name": "stdout",
     "output_type": "stream",
     "text": [
      "{'s0': 'a0', 's1': 'a0', 's2': 'a0'}\n"
     ]
    }
   ],
   "source": [
    "new_policy = compute_new_policy(mdp, new_vpi, gamma)\n",
    "\n",
    "print(new_policy)\n",
    "\n",
    "assert type(\n",
    "    new_policy) is dict, \"compute_new_policy must return a dict {state : optimal action for all states}\""
   ]
  },
  {
   "cell_type": "markdown",
   "metadata": {},
   "source": [
    "__Main loop__"
   ]
  },
  {
   "cell_type": "code",
   "execution_count": 47,
   "metadata": {},
   "outputs": [],
   "source": [
    "def policy_iteration(mdp, policy=None, gamma=0.9, num_iter=1000, min_difference=1e-5):\n",
    "    \"\"\" \n",
    "    Run the policy iteration loop for num_iter iterations or till difference between V(s) is below min_difference.\n",
    "    If policy is not given, initialize it at random.\n",
    "    \"\"\"\n",
    "    # <YOUR CODE: a whole lot of it>\n",
    "    \n",
    "    if policy == None:\n",
    "        policy = {}\n",
    "        for s in mdp.get_all_states():\n",
    "            if mdp.is_terminal(s):\n",
    "                policy[s] = None\n",
    "            else: policy[s] = np.random.choice(mdp.get_possible_actions(s))\n",
    "                \n",
    "#         for s in mdp.get_all_states():\n",
    "#             if len(mdp.get_possible_actions(s)) == 0:\n",
    "#                 policy[s] = ()\n",
    "#             else: policy[s] = np.random.choice(mdp.get_possible_actions(s))\n",
    "        #policy = {s: np.random.choice(mdp.get_possible_actions(s)) for s in mdp.get_all_states()}\n",
    "    \n",
    "    state_values = {state: 0.0 for state in mdp.get_all_states()}\n",
    "\n",
    "    status = False\n",
    "\n",
    "    while status == False:\n",
    "        for itr in range(num_iter):\n",
    "            new_vpi = compute_vpi(mdp, policy, gamma)\n",
    "            difference_v = max(abs(new_vpi[s]-state_values[s]) for s in mdp.get_all_states())             \n",
    "            state_values = new_vpi\n",
    "            print(\"iter %4i   |   diff: %6.5f   |   Vpi(start): %.3f \" %\n",
    "              (itr, difference_v, new_vpi[mdp._initial_state]))\n",
    "\n",
    "            if difference_v < min_difference:\n",
    "                break\n",
    "                \n",
    "        policy_old = policy\n",
    "        policy = compute_new_policy(mdp, new_vpi, gamma)\n",
    "        status = policy_old == policy \n",
    "        \n",
    "    return state_values, policy"
   ]
  },
  {
   "cell_type": "markdown",
   "metadata": {},
   "source": [
    "__Your PI Results__"
   ]
  },
  {
   "cell_type": "code",
   "execution_count": 48,
   "metadata": {},
   "outputs": [],
   "source": [
    "#<YOUR CODE: compare PI and VI on small & large FrozenLake>\n"
   ]
  },
  {
   "cell_type": "code",
   "execution_count": 49,
   "metadata": {},
   "outputs": [
    {
     "name": "stdout",
     "output_type": "stream",
     "text": [
      "*FFF\n",
      "FHFH\n",
      "FFFH\n",
      "HFFG\n",
      "\n"
     ]
    }
   ],
   "source": [
    "from mdp import FrozenLakeEnv\n",
    "mdp = FrozenLakeEnv(slip_chance=0.1)\n",
    "\n",
    "mdp.render()"
   ]
  },
  {
   "cell_type": "code",
   "execution_count": 32,
   "metadata": {},
   "outputs": [
    {
     "name": "stdout",
     "output_type": "stream",
     "text": [
      "iter    0   |   diff: 0.90000   |   V(start): 0.000 \n",
      "iter    1   |   diff: 0.72900   |   V(start): 0.000 \n",
      "iter    2   |   diff: 0.62330   |   V(start): 0.000 \n",
      "iter    3   |   diff: 0.50487   |   V(start): 0.000 \n",
      "iter    4   |   diff: 0.40894   |   V(start): 0.000 \n",
      "iter    5   |   diff: 0.34868   |   V(start): 0.349 \n",
      "iter    6   |   diff: 0.06529   |   V(start): 0.410 \n",
      "iter    7   |   diff: 0.05832   |   V(start): 0.468 \n",
      "iter    8   |   diff: 0.01139   |   V(start): 0.480 \n",
      "iter    9   |   diff: 0.00764   |   V(start): 0.487 \n",
      "iter   10   |   diff: 0.00164   |   V(start): 0.489 \n",
      "iter   11   |   diff: 0.00094   |   V(start): 0.490 \n",
      "iter   12   |   diff: 0.00022   |   V(start): 0.490 \n",
      "iter   13   |   diff: 0.00011   |   V(start): 0.490 \n",
      "iter   14   |   diff: 0.00003   |   V(start): 0.490 \n",
      "iter   15   |   diff: 0.00001   |   V(start): 0.490 \n",
      "iter   16   |   diff: 0.00000   |   V(start): 0.490 \n"
     ]
    }
   ],
   "source": [
    "state_values = value_iteration(mdp)"
   ]
  },
  {
   "cell_type": "code",
   "execution_count": 50,
   "metadata": {},
   "outputs": [
    {
     "name": "stdout",
     "output_type": "stream",
     "text": [
      "iter    0   |   diff: 0.00000   |   Vpi(start): 0.000 \n",
      "iter    0   |   diff: 0.00000   |   Vpi(start): -0.000 \n"
     ]
    }
   ],
   "source": [
    "state_values = policy_iteration(mdp)"
   ]
  },
  {
   "cell_type": "code",
   "execution_count": 52,
   "metadata": {},
   "outputs": [
    {
     "name": "stdout",
     "output_type": "stream",
     "text": [
      "*FFFFFFF\n",
      "FFFFFFFF\n",
      "FFFHFFFF\n",
      "FFFFFHFF\n",
      "FFFHFFFF\n",
      "FHHFFFHF\n",
      "FHFFHFHF\n",
      "FFFHFFFG\n",
      "\n"
     ]
    }
   ],
   "source": [
    "mdp = FrozenLakeEnv(slip_chance=0.1, map_name=\"8x8\")\n",
    "\n",
    "mdp.render()"
   ]
  },
  {
   "cell_type": "code",
   "execution_count": 53,
   "metadata": {},
   "outputs": [
    {
     "name": "stdout",
     "output_type": "stream",
     "text": [
      "iter    0   |   diff: 0.90000   |   V(start): 0.000 \n",
      "iter    1   |   diff: 0.72900   |   V(start): 0.000 \n",
      "iter    2   |   diff: 0.59049   |   V(start): 0.000 \n",
      "iter    3   |   diff: 0.47830   |   V(start): 0.000 \n",
      "iter    4   |   diff: 0.40894   |   V(start): 0.000 \n",
      "iter    5   |   diff: 0.34868   |   V(start): 0.000 \n",
      "iter    6   |   diff: 0.29655   |   V(start): 0.000 \n",
      "iter    7   |   diff: 0.25292   |   V(start): 0.000 \n",
      "iter    8   |   diff: 0.21619   |   V(start): 0.000 \n",
      "iter    9   |   diff: 0.18482   |   V(start): 0.000 \n",
      "iter   10   |   diff: 0.15757   |   V(start): 0.000 \n",
      "iter   11   |   diff: 0.13430   |   V(start): 0.000 \n",
      "iter   12   |   diff: 0.11445   |   V(start): 0.000 \n",
      "iter   13   |   diff: 0.09751   |   V(start): 0.098 \n",
      "iter   14   |   diff: 0.04772   |   V(start): 0.139 \n",
      "iter   15   |   diff: 0.03479   |   V(start): 0.173 \n",
      "iter   16   |   diff: 0.01283   |   V(start): 0.186 \n",
      "iter   17   |   diff: 0.00734   |   V(start): 0.194 \n",
      "iter   18   |   diff: 0.00255   |   V(start): 0.196 \n",
      "iter   19   |   diff: 0.00125   |   V(start): 0.197 \n",
      "iter   20   |   diff: 0.00042   |   V(start): 0.198 \n",
      "iter   21   |   diff: 0.00019   |   V(start): 0.198 \n",
      "iter   22   |   diff: 0.00006   |   V(start): 0.198 \n",
      "iter   23   |   diff: 0.00003   |   V(start): 0.198 \n",
      "iter   24   |   diff: 0.00001   |   V(start): 0.198 \n",
      "iter   25   |   diff: 0.00000   |   V(start): 0.198 \n"
     ]
    }
   ],
   "source": [
    "state_values = value_iteration(mdp)"
   ]
  },
  {
   "cell_type": "code",
   "execution_count": 54,
   "metadata": {},
   "outputs": [
    {
     "name": "stdout",
     "output_type": "stream",
     "text": [
      "iter    0   |   diff: 0.26316   |   Vpi(start): 0.000 \n",
      "iter    1   |   diff: 0.00000   |   Vpi(start): 0.000 \n",
      "iter    0   |   diff: 0.26316   |   Vpi(start): 0.000 \n",
      "iter    1   |   diff: 0.00000   |   Vpi(start): 0.000 \n"
     ]
    }
   ],
   "source": [
    "state_values = policy_iteration(mdp)"
   ]
  },
  {
   "cell_type": "markdown",
   "metadata": {},
   "source": [
    "## Policy iteration convergence\n",
    "\n",
    "**Note:** Assume that $\\mathcal{S}, \\mathcal{A}$ are finite.\n",
    "\n",
    "We can define another Bellman operator:\n",
    "\n",
    "$$(T_{\\pi}V)(s) = \\mathbb{E}_{r, s'|s, a = \\pi(s)}\\left[r + \\gamma V(s')\\right]$$\n",
    "\n",
    "And rewrite policy iteration algorithm in operator form:\n",
    "\n",
    "\n",
    "---\n",
    "\n",
    "Initialize $\\pi_0$\n",
    "\n",
    "**for** $k = 0,1,2,...$ **do**\n",
    "\n",
    "&nbsp;&nbsp;&nbsp;&nbsp; Solve $V_k = T_{\\pi_k}V_k$   \n",
    "\n",
    "&nbsp;&nbsp;&nbsp;&nbsp; Select $\\pi_{k+1}$ s.t. $T_{\\pi_{k+1}}V_k = TV_k$ \n",
    "\n",
    "**end for**\n",
    "\n",
    "---\n",
    "\n",
    "To prove convergence of the algorithm we need to prove two properties: contraction an monotonicity."
   ]
  },
  {
   "cell_type": "markdown",
   "metadata": {},
   "source": [
    "#### Monotonicity\n",
    "\n",
    "For all $V, U$ if $V(s) \\le U(s)$   $\\forall s \\in \\mathcal{S}$ then $(T_\\pi V)(s) \\le (T_\\pi U)(s)$   $\\forall s \\in  \\mathcal{S}$"
   ]
  },
  {
   "cell_type": "markdown",
   "metadata": {},
   "source": [
    "*<-- Your proof here -->*"
   ]
  },
  {
   "cell_type": "markdown",
   "metadata": {},
   "source": [
    "#### Contraction\n",
    "\n",
    "$$\n",
    "||T_\\pi V - T_\\pi U||_{\\infty} \\le \\gamma ||V - U||_{\\infty}\n",
    "$$\n",
    "\n",
    "For all $V, U$"
   ]
  },
  {
   "cell_type": "markdown",
   "metadata": {},
   "source": [
    "*<-- Your proof here -->*"
   ]
  },
  {
   "cell_type": "markdown",
   "metadata": {},
   "source": [
    "#### Convergence\n",
    "\n",
    "Prove that there exists iteration $k_0$ such that $\\pi_k = \\pi^*$ for all $k \\ge k_0$"
   ]
  },
  {
   "cell_type": "markdown",
   "metadata": {},
   "source": [
    "*<-- Your proof here -->*"
   ]
  }
 ],
 "metadata": {
  "kernelspec": {
   "display_name": "Python 3 (ipykernel)",
   "language": "python",
   "name": "python3"
  },
  "language_info": {
   "codemirror_mode": {
    "name": "ipython",
    "version": 3
   },
   "file_extension": ".py",
   "mimetype": "text/x-python",
   "name": "python",
   "nbconvert_exporter": "python",
   "pygments_lexer": "ipython3",
   "version": "3.7.13"
  }
 },
 "nbformat": 4,
 "nbformat_minor": 2
}
